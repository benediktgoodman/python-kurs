{
 "cells": [
  {
   "cell_type": "markdown",
   "metadata": {},
   "source": [
    "# 03: Mer om funksjoner\n",
    "\n",
    "**Forfatter**: Benedikt Goodman\\\n",
    "**Medhjelpere**: Mistral Large, ChatGPT-4\n",
    "\n",
    "\n",
    "Funksjoner er etter min mening det viktigste å mestre. Det er nøkkelen til å skrive kode som er modularisert, lett å forstå, teste og vedlikeholde. Det åpner også døren for å forstå objekter og dermed koden i mer eller mindre alle Python-pakker. Som vanlig har jeg fått hjelp av AI for å skrive dette og derfor er både koden og teksten på engelsk.\n",
    "\n",
    "## Outline\n",
    "1. Function basics\n",
    "2. Function arguments\n",
    "    1.  Positional arguments\n",
    "    2. Keyword arguments\n",
    "    3. Default arguments\n",
    "    4. Variable-length arguments\n",
    "3. Return values\n",
    "4. Function documentation\n",
    "5. Nested functions\n",
    "6. Function factories\n",
    "7. Single Responsibility Principle (SRP)\n",
    "8. Function composition\n",
    "\n",
    "\n",
    "\n",
    "## A recap of what we covered last time\n",
    "What are some unique features about functions?"
   ]
  },
  {
   "cell_type": "code",
   "execution_count": 1,
   "metadata": {
    "tags": []
   },
   "outputs": [
    {
     "ename": "ImportError",
     "evalue": "cannot import name 'validate_call' from 'pydantic' (/home/jovyan/Git_repos/nr-kurs-python-dypdykk/.venv/lib/python3.10/site-packages/pydantic/__init__.cpython-310-x86_64-linux-gnu.so)",
     "output_type": "error",
     "traceback": [
      "\u001b[0;31m---------------------------------------------------------------------------\u001b[0m",
      "\u001b[0;31mImportError\u001b[0m                               Traceback (most recent call last)",
      "Cell \u001b[0;32mIn[1], line 5\u001b[0m\n\u001b[1;32m      3\u001b[0m \u001b[38;5;28;01mimport\u001b[39;00m \u001b[38;5;21;01mnumpy\u001b[39;00m \u001b[38;5;28;01mas\u001b[39;00m \u001b[38;5;21;01mnp\u001b[39;00m\n\u001b[1;32m      4\u001b[0m \u001b[38;5;28;01mimport\u001b[39;00m \u001b[38;5;21;01mos\u001b[39;00m\n\u001b[0;32m----> 5\u001b[0m \u001b[38;5;28;01mfrom\u001b[39;00m \u001b[38;5;21;01mpydantic\u001b[39;00m \u001b[38;5;28;01mimport\u001b[39;00m validate_call\n",
      "\u001b[0;31mImportError\u001b[0m: cannot import name 'validate_call' from 'pydantic' (/home/jovyan/Git_repos/nr-kurs-python-dypdykk/.venv/lib/python3.10/site-packages/pydantic/__init__.cpython-310-x86_64-linux-gnu.so)"
     ]
    }
   ],
   "source": [
    "import pandas as pd\n",
    "import matplotlib.pyplot as plt\n",
    "import numpy as np\n",
    "import os\n",
    "\n",
    "# Vil feile, nå skal vi repetere å legge til pakker :)\n",
    "from pydantic import validate_call\n"
   ]
  },
  {
   "cell_type": "code",
   "execution_count": 1,
   "metadata": {},
   "outputs": [],
   "source": [
    "def greet(name):\n",
    "    return f\"Hello, {name}!\""
   ]
  },
  {
   "cell_type": "code",
   "execution_count": 2,
   "metadata": {},
   "outputs": [
    {
     "data": {
      "text/plain": [
       "'Hello, Benedikt!'"
      ]
     },
     "execution_count": 2,
     "metadata": {},
     "output_type": "execute_result"
    }
   ],
   "source": [
    "greet('Benedikt')"
   ]
  },
  {
   "cell_type": "markdown",
   "metadata": {},
   "source": [
    "### Function arguments\n",
    "\n",
    "In Python, an `argument` is a value that is passed into a `function` when it is called. `arguments` allow you to customize the behavior of a function by providing different input values. When you define a `function`, you specify one or more `parameters` (also called formal parameters) that represent the *input values the function expects to receive*. When you call the function, you provide the actual values (arguments) for those parameters.\n",
    "\n",
    "\n",
    "Functions can take several types of arguments\n",
    "\n",
    "- `Positional arguments`: Arguments that need to be in a specific position.\n",
    "- `Keyword arguments`: Arguments identified by a keyword and not necessarily placed in a position.\n",
    "- `Variable-length arguments`: Arguments that allow you to pass an arbitrary number of arguments (usually abbreviated as `*args`) or keyword arguments (usually shortened to `**kwargs`). \n",
    "\n",
    "NB: Note how `*` and `**` is used to unpack the `args` and `kwargs`."
   ]
  },
  {
   "cell_type": "code",
   "execution_count": 3,
   "metadata": {},
   "outputs": [],
   "source": [
    "def function_example(positional, keyword=None,  *args, **kwargs):\n",
    "    return f\"Positional: {positional}, Keyword: {keyword}, Args: {args}, Kwargs: {kwargs}\""
   ]
  },
  {
   "cell_type": "code",
   "execution_count": 4,
   "metadata": {},
   "outputs": [
    {
     "name": "stdout",
     "output_type": "stream",
     "text": [
      "Positional: positional_value, Keyword: None, Args: (), Kwargs: {}\n",
      "Positional: positional_value, Keyword: keyword_value, Args: (), Kwargs: {}\n",
      "Positional: positional_value, Keyword: 1, Args: (2, 3), Kwargs: {}\n",
      "Positional: positional_value, Keyword: None, Args: (), Kwargs: {'arg1': 'value1', 'arg2': 'value2'}\n",
      "Positional: positional_value, Keyword: 1, Args: (2, 3), Kwargs: {'arg1': 'value1', 'arg2': 'value2'}\n"
     ]
    }
   ],
   "source": [
    "# Calling the function with a positional argument\n",
    "result = function_example(\"positional_value\")\n",
    "print(result)  # Output: Positional: positional_value, Keyword: None, Args: (), Kwargs: {}\n",
    "\n",
    "# Calling the function with a keyword argument\n",
    "result = function_example(\"positional_value\", keyword=\"keyword_value\")\n",
    "print(result)  # Output: Positional: positional_value, Keyword: keyword_value, Args: (), Kwargs: {}\n",
    "\n",
    "# Calling the function with additional positional arguments\n",
    "result = function_example(\"positional_value\", 1, 2, 3)\n",
    "print(result)  # Output: Positional: positional_value, Keyword: None, Args: (1, 2, 3), Kwargs: {}\n",
    "\n",
    "# Calling the function with additional keyword arguments\n",
    "result = function_example(\"positional_value\", arg1=\"value1\", arg2=\"value2\")\n",
    "print(result)  # Output: Positional: positional_value, Keyword: None, Args: (), Kwargs: {'arg1': 'value1', 'arg2': 'value2'}\n",
    "\n",
    "# Calling the function with a mix of argument types\n",
    "result = function_example(\"positional_value\", 1, 2, 3, arg1=\"value1\", arg2=\"value2\")\n",
    "print(result)  # Output: Positional: positional_value, Keyword: None, Args: (1, 2, 3), Kwargs: {'arg1': 'value1', 'arg2': 'value2'}\n"
   ]
  },
  {
   "cell_type": "code",
   "execution_count": 5,
   "metadata": {},
   "outputs": [
    {
     "data": {
      "text/plain": [
       "\"Positional: 1, Keyword: Keyword, Args: ('These', 'are', 'args', [666], {'division': 'national accounts'}), Kwargs: {'kwarg1': 'These', 'whatever': 'are', 'kwarg3': 'kwargs'}\""
      ]
     },
     "execution_count": 5,
     "metadata": {},
     "output_type": "execute_result"
    }
   ],
   "source": [
    "# Lets try it all together\n",
    "function_example(\n",
    "    1,  \n",
    "    'Keyword',\n",
    "    'These', \n",
    "    'are', \n",
    "    'args',\n",
    "    [666],\n",
    "    {'division': 'national accounts'}, \n",
    "    kwarg1='These',\n",
    "    whatever='are',\n",
    "    kwarg3='kwargs',\n",
    "    )"
   ]
  },
  {
   "cell_type": "markdown",
   "metadata": {},
   "source": [
    "## Function Documentation\n",
    "\n",
    "Using docstrings (triple-quoted strings) immediately after the function definition helps document the function's purpose and usage. Adding type hints to function parameters and return values further enhances the documentation by providing clear information about the expected input and output types.\n",
    "\n",
    "Type hints can be added using Python's built-in typing module, which includes various types and type utilities. Combining well-written docstrings with type hints improves code readability and maintainability, and facilitates better collaboration among developers. Large language models like Mistral, Claude, or ChatGPT-3.5 / ChatGPT-4 are **very** good at writing docstrings and providing type hints for your functions.\n"
   ]
  },
  {
   "cell_type": "code",
   "execution_count": 6,
   "metadata": {},
   "outputs": [],
   "source": [
    "\n",
    "\n",
    "# Example of a google-style docstring in a function with typehints\n",
    "def calculate_area(radius: int | float | np.ndarray):\n",
    "    \"\"\"\n",
    "    Calculate the area of a circle.\n",
    "\n",
    "    Args:\n",
    "        radius: The radius of the circle.\n",
    "\n",
    "    Returns:\n",
    "        float: The area of the circle.\n",
    "    \"\"\"\n",
    "    return 3.14 * (radius ** 2)\n"
   ]
  },
  {
   "cell_type": "code",
   "execution_count": 7,
   "metadata": {},
   "outputs": [],
   "source": [
    "def calculate_area(radius: float | int | np.ndarray) -> float | np.ndarray:\n",
    "    \"\"\"\n",
    "    Calculate the area of a circle.\n",
    "\n",
    "    Parameters\n",
    "    ----------\n",
    "    radius :\n",
    "        The radius or radii of the circle(s).\n",
    "\n",
    "    Returns\n",
    "    -------\n",
    "    float or ndarray\n",
    "        The area of the circle(s).\n",
    "\n",
    "    Examples\n",
    "    --------\n",
    "    >>> calculate_area(2.0)\n",
    "    12.56\n",
    "\n",
    "    >>> radii = np.array([1.0, 2.0, 3.0])\n",
    "    >>> calculate_area(radii)\n",
    "    array([ 3.14, 12.56, 28.26])\n",
    "    \"\"\"\n",
    "    # This pattern of design is known as type-guarding\n",
    "    if isinstance(radius, (type(float), type(int), np.ndarray)) is False:\n",
    "        raise TypeError(f'Radius must be int, float or np.ndarray. Argument given was {type(radius)}')\n",
    "    \n",
    "    return 3.14 * (radius ** 2)"
   ]
  },
  {
   "cell_type": "code",
   "execution_count": 8,
   "metadata": {},
   "outputs": [
    {
     "data": {
      "text/plain": [
       "array([[200.96,   3.14, 200.96],\n",
       "       [113.04,  50.24, 200.96],\n",
       "       [153.86,  50.24,  50.24]])"
      ]
     },
     "execution_count": 8,
     "metadata": {},
     "output_type": "execute_result"
    }
   ],
   "source": [
    "# Will work, hover the moue above the function and the documentation will show as well\n",
    "calculate_area(np.random.randint(0, 10, size=(3,3)))"
   ]
  },
  {
   "cell_type": "code",
   "execution_count": 9,
   "metadata": {},
   "outputs": [
    {
     "ename": "TypeError",
     "evalue": "Radius must be int, float or np.ndarray. Argument given was <class 'list'>",
     "output_type": "error",
     "traceback": [
      "\u001b[0;31m---------------------------------------------------------------------------\u001b[0m",
      "\u001b[0;31mTypeError\u001b[0m                                 Traceback (most recent call last)",
      "Cell \u001b[0;32mIn[9], line 2\u001b[0m\n\u001b[1;32m      1\u001b[0m \u001b[38;5;66;03m# Will show documentation but raise error\u001b[39;00m\n\u001b[0;32m----> 2\u001b[0m \u001b[43mcalculate_area\u001b[49m\u001b[43m(\u001b[49m\u001b[43m[\u001b[49m\u001b[38;5;241;43m1\u001b[39;49m\u001b[43m,\u001b[49m\u001b[43m \u001b[49m\u001b[38;5;241;43m2\u001b[39;49m\u001b[43m,\u001b[49m\u001b[43m \u001b[49m\u001b[38;5;241;43m3\u001b[39;49m\u001b[43m]\u001b[49m\u001b[43m)\u001b[49m\n",
      "Cell \u001b[0;32mIn[7], line 26\u001b[0m, in \u001b[0;36mcalculate_area\u001b[0;34m(radius)\u001b[0m\n\u001b[1;32m     24\u001b[0m \u001b[38;5;66;03m# This pattern of design is known as type-guarding\u001b[39;00m\n\u001b[1;32m     25\u001b[0m \u001b[38;5;28;01mif\u001b[39;00m \u001b[38;5;28misinstance\u001b[39m(radius, (\u001b[38;5;28mtype\u001b[39m(\u001b[38;5;28mfloat\u001b[39m), \u001b[38;5;28mtype\u001b[39m(\u001b[38;5;28mint\u001b[39m), np\u001b[38;5;241m.\u001b[39mndarray)) \u001b[38;5;129;01mis\u001b[39;00m \u001b[38;5;28;01mFalse\u001b[39;00m:\n\u001b[0;32m---> 26\u001b[0m     \u001b[38;5;28;01mraise\u001b[39;00m \u001b[38;5;167;01mTypeError\u001b[39;00m(\u001b[38;5;124mf\u001b[39m\u001b[38;5;124m'\u001b[39m\u001b[38;5;124mRadius must be int, float or np.ndarray. Argument given was \u001b[39m\u001b[38;5;132;01m{\u001b[39;00m\u001b[38;5;28mtype\u001b[39m(radius)\u001b[38;5;132;01m}\u001b[39;00m\u001b[38;5;124m'\u001b[39m)\n\u001b[1;32m     28\u001b[0m \u001b[38;5;28;01mreturn\u001b[39;00m \u001b[38;5;241m3.14\u001b[39m \u001b[38;5;241m*\u001b[39m (radius \u001b[38;5;241m*\u001b[39m\u001b[38;5;241m*\u001b[39m \u001b[38;5;241m2\u001b[39m)\n",
      "\u001b[0;31mTypeError\u001b[0m: Radius must be int, float or np.ndarray. Argument given was <class 'list'>"
     ]
    }
   ],
   "source": [
    "# Will show documentation but raise error\n",
    "calculate_area([1, 2, 3])\n"
   ]
  },
  {
   "cell_type": "markdown",
   "metadata": {},
   "source": [
    "## Functions can contain functions\n",
    "\n",
    "...I know we have done this before but it is worth repeating. Do you guys remember what we covered about scoping last time?"
   ]
  },
  {
   "cell_type": "code",
   "execution_count": null,
   "metadata": {},
   "outputs": [],
   "source": [
    "def outer_function(variable):\n",
    "    print(f'This the variable in outer function: {variable}')\n",
    "    \n",
    "    def inner_function(variable):\n",
    "        print(f'This is the variable in the inner function: {variable}')\n",
    "        return variable + variable\n",
    "\n",
    "    variable = inner_function(variable)\n",
    "    print(f'This is the variable after triggering the inner function: {variable}')\n",
    "    \n",
    "    return variable\n",
    "\n",
    "# We can call the outer function\n",
    "outer_function(2)\n",
    "\n",
    "# But can we call the inner function?"
   ]
  },
  {
   "cell_type": "markdown",
   "metadata": {},
   "source": [
    "## Function factories\n",
    "\n",
    "Functions can be used to make other functions. We often do these when we want to create variations of functions related to same-ish types of operations. The more in-depth reasons for why they might be useful are:\n",
    "\n",
    "\n",
    "1. `Encapsulation and abstraction`: Factory functions help encapsulate the object creation process, hiding the complexity of creating an object and exposing a simplified interface. This makes it easier to change the implementation details of the object creation process without affecting the client code.\n",
    "\n",
    "2. `Flexibility and customization`: Factory functions can return different types of objects based on input parameters or configuration settings. This allows for more flexible and customizable object creation, as the specific object type can be determined at runtime.\n",
    "\n",
    "3. `Simplifying object initialization`: Factory functions can simplify the initialization of objects with complex or verbose constructors. By wrapping the initialization process in a function, you can provide a more user-friendly interface for creating objects.\n",
    "\n",
    "4. `Resource management`: Factory functions can manage resources more efficiently by reusing existing objects or pooling resources. For example, a factory function can return an object from a cache instead of creating a new one, improving performance and reducing memory usage.\n",
    "\n",
    "5. `Enforcing constraints`: Factory functions can enforce constraints on object/function creation, such as ensuring that only a single instance of a class is created (singleton pattern) or that objects are created with specific configurations.\n",
    "\n",
    "The above highlight how factory functions can be a powerful tool in a developer’s toolkit, particularly for managing complexity and enhancing the flexibility and scalability of software designs. Or... help you write concise code which is (hopefully) easier to both test and understand."
   ]
  },
  {
   "cell_type": "code",
   "execution_count": null,
   "metadata": {},
   "outputs": [],
   "source": [
    "# Instead of a function returing a variable, it now returns another function.\n",
    "def create_logger(level):\n",
    "    def logger(message):\n",
    "        print(f\"{level}: {message}\")\n",
    "    return logger\n",
    "\n",
    "# Creating different loggers i.e. different variations of a type of function.\n",
    "info_logger = create_logger(\"INFO\")\n",
    "warning_logger = create_logger(\"WARNING\")\n",
    "error_logger = create_logger(\"ERROR\")\n",
    "\n",
    "# Using the loggers\n",
    "info_logger(\"This is an informational message.\")\n",
    "warning_logger(\"This is a warning message.\")\n",
    "error_logger(\"This is an error message.\")"
   ]
  },
  {
   "cell_type": "markdown",
   "metadata": {},
   "source": [
    "## Function decorators\n",
    "\n",
    "Sometimes we want a function to do something to another function kind of like how factories do, but we want to be able to apply this to any function we want to define. For this we use what is called a `decorator` or a `wrapper`. These two words are use interchangeably. For simplicity's sake I will refer to it as a `decorator`.\n",
    "\n",
    "### The basic idea of a `decorator`\n",
    "\n",
    "Think of a decorator as a special wrapper for a present. When you give someone a present, you might put it in a box and then wrap the box in some pretty paper to make it look nice. A decorator in Python does something similar for functions. It takes a function, adds some extra \"wrapping\" (extra functionality), and then gives it back, still looking like the same function but now with some added features.\n",
    "\n"
   ]
  },
  {
   "cell_type": "code",
   "execution_count": null,
   "metadata": {},
   "outputs": [],
   "source": [
    "# Here we make the decorator which takes in a function and prints stuff before and after triggering it\n",
    "def hello_goodbye_decorator(func):\n",
    "    def wrapper():\n",
    "        print(\"Hello! (This is the part where you can do things which change the inputs to the function you want to decorate.)\")  # This is like saying \"Hello!\" when you open the present.\n",
    "        func()  # This is the original function doing what it was supposed to do.\n",
    "        print(\"Goodbye! (This is the part where you can do things which change the outputs of a function you want to decorate.) \")  # This is like saying \"Goodbye!\" after enjoying the present.\n",
    "    return wrapper\n",
    "\n",
    "# This is the function we want to decorate\n",
    "def my_function():\n",
    "    print('I am the function')\n",
    "\n",
    "# The decoration of the function\n",
    "decorated_function = hello_goodbye_decorator(my_function)\n",
    "\n",
    "# Triggering the function\n",
    "decorated_function()"
   ]
  },
  {
   "cell_type": "markdown",
   "metadata": {},
   "source": [
    "Got it? Let's make a decorator which actually does something useful!\n",
    "\n",
    "Let’s imagine a theme park called \"Giantland,\" where you must be at least 69 years old to enter, because in Giantland, everyone ages very, very slowly! Our function will be for issuing an entry pass, and the decorator will make sure everyone is at least 69 years old."
   ]
  },
  {
   "cell_type": "code",
   "execution_count": null,
   "metadata": {},
   "outputs": [],
   "source": [
    "def age_requirement_decorator(age_requirement):\n",
    "    def decorator(func):\n",
    "        def wrapper(*args, **kwargs):\n",
    "            # Check and adjust the 'age' parameter\n",
    "            if 'age' in kwargs and kwargs['age'] < age_requirement:\n",
    "                print(f\"Hmm, you look too young for this place. Let's pretend you're {age_requirement}\")\n",
    "                kwargs['age'] = age_requirement\n",
    "            elif args and isinstance(args[1], int) and args[1] < age_requirement:\n",
    "                print(f\"Hmm, you look too young for this place. Let's pretend you're {age_requirement}. Nice.\")\n",
    "                args = (args[0], age_requirement) + args[2:]\n",
    "            return func(*args, **kwargs)\n",
    "        return wrapper\n",
    "    return decorator"
   ]
  },
  {
   "cell_type": "code",
   "execution_count": null,
   "metadata": {},
   "outputs": [],
   "source": [
    "@age_requirement_decorator(age_requirement=1000)\n",
    "def issue_giantland_pass(name, age):\n",
    "    print(f\"{name} receives a Giantland pass and is magically {age} years old now!\")"
   ]
  },
  {
   "cell_type": "code",
   "execution_count": null,
   "metadata": {},
   "outputs": [],
   "source": [
    "issue_giantland_pass(\"Alice\", 100)"
   ]
  },
  {
   "cell_type": "markdown",
   "metadata": {},
   "source": [
    "You might want to create a decorator function when you find yourself applying the same logic or functionality to multiple functions repeatedly. Decorators allow you to encapsulate this common logic in a reusable way, making your code more modular, maintainable, and DRY (Don't Repeat Yourself). It's only really applicable when you are deep into developing source code for objects and functions that are quite complicated. For most use-cases in SSB you typically do not need to concern yourself with decorators. However, it's handy to know what they are so you don't freak out when you see `@validate_call` above a function or a method in an object in the source-code of a library.\n",
    "\n",
    "\n",
    "A very common usage for decorators are `timer functions` or the `validate_call` decorators found in a library called `pydantic` which adds type-guard functionality for your "
   ]
  },
  {
   "cell_type": "code",
   "execution_count": null,
   "metadata": {},
   "outputs": [],
   "source": [
    "from pydantic import validate_call\n",
    "\n",
    "# The wrapper below will ensure that the function we define will only accept what the typehints say. Nothing more, nothing less\n",
    "@validate_call\n",
    "def some_function(number: int, other_number: int) -> int:\n",
    "    return number + other_number\n",
    "\n",
    "# Will work\n",
    "some_function(3, 4)"
   ]
  },
  {
   "cell_type": "code",
   "execution_count": null,
   "metadata": {},
   "outputs": [],
   "source": [
    "# Pydantic will throw an error here as we give it a float\n",
    "some_function(3.14, 999)"
   ]
  },
  {
   "cell_type": "markdown",
   "metadata": {},
   "source": [
    "## Sidenote: When would you want to apply decorators?\n",
    "\n",
    "TLDR: Decorators are useful when you need to apply the same logic or functionality to multiple functions. By encapsulating this common logic in a decorator, you can make your code more modular, maintainable, and not repeat yourself a thousand times.\n",
    "\n",
    "Here are some scenarios where decorators can be useful:\n",
    "\n",
    "1. `Logging and debugging`: You may want to log the execution time, input arguments, or return values of various functions for debugging or monitoring purposes. Instead of manually adding logging statements to each function, you can create a decorator that handles the logging and apply it to the desired functions.\n",
    "\n",
    "2. `Authentication and authorization`: In some applications, you may need to restrict access to certain functions based on user permissions or authentication status. A decorator can be used to check these conditions and either allow or deny access to the function.\n",
    "\n",
    "3. `Caching`: To improve performance, you might want to cache the results of time-consuming functions. A decorator can be used to implement caching, so you don't have to write caching logic for each individual function.\n",
    "\n",
    "4. `Error handling`: You may want to add custom error handling or fallback behavior to multiple functions. A decorator can encapsulate this error handling logic, making it easy to apply to any function that needs it.\n",
    "\n",
    "5. `Input validation`: You may want to validate the input arguments of multiple functions to ensure they meet certain criteria. A decorator can be used to perform input validation, so you don't have to write validation code for each function.\n",
    "\n",
    "## The Single Responsibility Principle (SRP) ...or why you should make your functions do one thing\n",
    "\n",
    "We covered this in the last lecture. But this is really, *really*, **really**, important. Bad code usually violates the SRP. It is hard to read, hard to test and hard to maintain. Now, lets write some truly bad code."
   ]
  },
  {
   "cell_type": "code",
   "execution_count": null,
   "metadata": {},
   "outputs": [],
   "source": [
    "def a_truly_shitty_function(df_employees, df_performance):\n",
    "    plt.figure(figsize=(12, 6))\n",
    "    df_employees = df_employees[df_employees['Age'] > 30]\n",
    "    df_employees = df_employees.copy()\n",
    "    df_performance = df_performance[df_performance['Performance_Score'] > 250]\n",
    "    df_performance['useless_flag'] = df_performance['Performance_Score'] > 100\n",
    "    df_employees['Adjusted_Salary'] = np.where(\n",
    "        df_employees['Years_with_Company'] > 10, \n",
    "        df_employees['Salary'] * 1.1 + 1,\n",
    "        df_employees['Salary'] * 0.9 - 1\n",
    "    )\n",
    "    if df_employees['Adjusted_Salary'].mean() > 60000:\n",
    "        print(\"Useless Information: Mean salary adjusted!\")\n",
    "        df_employees['Adjusted_Salary'] += np.sin(df_employees['Adjusted_Salary'].mean())\n",
    "    merged_df = pd.merge(df_employees, df_performance, on='Employee_ID', how='inner')\n",
    "    merged_df.to_csv('temp_df.csv')\n",
    "    merged_df = pd.read_csv('temp_df.csv')\n",
    "    os.remove('temp_df.csv')\n",
    "    merged_df['Composite_Score'] = merged_df.apply(lambda row: (row['Years_with_Company'] * row['Performance_Score'] / np.sqrt(row['Age'])) if row['useless_flag'] else 0, axis=1)\n",
    "    if np.random.rand() > 0.99:\n",
    "        raise Exception(\"Random error just for extra chaos!\")\n",
    "    if not df_performance[df_performance['useless_flag']].empty:\n",
    "        print('Completely unnecessary message: All scores are more than 100!')\n",
    "    plt.subplot(1, 2, 1)\n",
    "    plt.bar(merged_df['Employee_Name'], merged_df['Adjusted_Salary'], color='blue')\n",
    "    plt.title('Adjusted Salaries of Employees')\n",
    "    max_salary = merged_df['Adjusted_Salary'].max()\n",
    "    avg_composite_score = merged_df['Composite_Score'].mean()\n",
    "    plt.subplot(1, 2, 2)\n",
    "    plt.scatter(merged_df['Employee_Name'], merged_df['Composite_Score'], color='red')\n",
    "    plt.axhline(y=avg_composite_score, color='green', linestyle='--')\n",
    "    plt.title('Composite Scores with Average Line')\n",
    "    plt.show()\n",
    "    return max_salary + np.random.randint(-500, 500), avg_composite_score * np.random.choice([0.98, 1.02])\n",
    "\n",
    "\n",
    "\n"
   ]
  },
  {
   "cell_type": "code",
   "execution_count": null,
   "metadata": {},
   "outputs": [],
   "source": [
    "# Lets trigger this pile of bullshit\n",
    "data_employees = {\n",
    "    'Employee_ID': [1, 2, 3, 4, 5],\n",
    "    'Employee_Name': ['Alice', 'Bob', 'Charlie', 'David', 'Eve'],\n",
    "    'Age': [25, 40, 35, 30, 45],\n",
    "    'Years_with_Company': [2, 10, 5, 3, 20],\n",
    "    'Salary': [50000, 75000, 62000, 58000, 95000]\n",
    "}\n",
    "df_employees = pd.DataFrame(data_employees)\n",
    "\n",
    "# Some more data\n",
    "data_performance = {\n",
    "    'Employee_ID': [1, 2, 3, 4, 5],\n",
    "    'Performance_Score': [200, 300, 250, 220, 500]\n",
    "}\n",
    "\n",
    "\n",
    "df_performance = pd.DataFrame(data_performance)\n",
    "\n",
    "# Calling the function\n",
    "max_salary, avg_composite_score = a_truly_shitty_function(df_employees, df_performance)\n",
    "print(f\"Max Salary: {max_salary}, Average Composite Score: {avg_composite_score}\")"
   ]
  },
  {
   "cell_type": "markdown",
   "metadata": {},
   "source": [
    "And now, let's write code that respects the SRP."
   ]
  },
  {
   "cell_type": "code",
   "execution_count": null,
   "metadata": {},
   "outputs": [],
   "source": [
    "def filter_data(df: pd.DataFrame, column: str, threshold: int) -> pd.DataFrame:\n",
    "    \"\"\"\n",
    "    Filter a dataframe based on the given column and threshold.\n",
    "\n",
    "    Args:\n",
    "        df (pd.DataFrame): The dataframe to filter.\n",
    "        column (str): The column name to filter by.\n",
    "        threshold (int): The threshold value for filtering.\n",
    "\n",
    "    Returns:\n",
    "        pd.DataFrame: The filtered dataframe.\n",
    "    \"\"\"\n",
    "    return df[df[column] > threshold]\n",
    "\n",
    "def adjust_salaries(df: pd.DataFrame, salary_column: str, years_with_company_column: str, adjustment_factor: float) -> pd.DataFrame:\n",
    "    \"\"\"\n",
    "    Adjust salaries based on years with the company.\n",
    "\n",
    "    Args:\n",
    "        df (pd.DataFrame): Employees data.\n",
    "        salary_column (str): Column name for salary.\n",
    "        years_with_company_column (str): Column name for years with the company.\n",
    "        adjustment_factor (float): Adjustment factor for salary.\n",
    "\n",
    "    Returns:\n",
    "        pd.DataFrame: Employees data with adjusted salaries.\n",
    "    \"\"\"\n",
    "    df['Adjusted_Salary'] = np.where(\n",
    "        df[years_with_company_column] > 10,\n",
    "        df[salary_column] * (1 + adjustment_factor),\n",
    "        df[salary_column] * (1 - adjustment_factor)\n",
    "    )\n",
    "    return df\n",
    "\n",
    "def merge_data(df_employees: pd.DataFrame, df_performance: pd.DataFrame, merge_key: str) -> pd.DataFrame:\n",
    "    \"\"\"\n",
    "    Merge employees and performance data on Employee_ID.\n",
    "\n",
    "    Args:\n",
    "        df_employees (pd.DataFrame): Employees data.\n",
    "        df_performance (pd.DataFrame): Performance data.\n",
    "        merge_key (str): Column name for merging the data.\n",
    "\n",
    "    Returns:\n",
    "        pd.DataFrame: Merged employees and performance data.\n",
    "    \"\"\"\n",
    "    return pd.merge(df_employees, df_performance, on=merge_key, how='inner')\n",
    "\n",
    "def calculate_composite_score(df: pd.DataFrame, composite_score_column: str, years_with_company_column: str, performance_score_column: str, age_column: str) -> pd.DataFrame:\n",
    "    \"\"\"\n",
    "    Calculate composite score based on years with the company, performance score, and age.\n",
    "\n",
    "    Args:\n",
    "        df (pd.DataFrame): Merged employees and performance data.\n",
    "        composite_score_column (str): Column name for composite score.\n",
    "        years_with_company_column (str): Column name for years with the company.\n",
    "        performance_score_column (str): Column name for performance score.\n",
    "        age_column (str): Column name for age.\n",
    "\n",
    "    Returns:\n",
    "        pd.DataFrame: Merged employees and performance data with calculated composite scores.\n",
    "    \"\"\"\n",
    "    df[composite_score_column] = df[years_with_company_column] * df[performance_score_column] / np.sqrt(df[age_column])\n",
    "    return df\n",
    "\n",
    "def plot_results(df: pd.DataFrame, name_column: str, salary_column: str, composite_score_column: str) -> None:\n",
    "    \"\"\"\n",
    "    Plot adjusted salaries and composite scores of employees.\n",
    "\n",
    "    Args:\n",
    "        df (pd.DataFrame): Merged employees and performance data with adjusted salaries and composite scores.\n",
    "        name_column (str): Column name for employee names.\n",
    "        salary_column (str): Column name for adjusted salaries.\n",
    "        composite_score_column (str): Column name for composite scores.\n",
    "    \"\"\"\n",
    "    plt.figure(figsize=(12, 6))\n",
    "\n",
    "    plt.subplot(1, 2, 1)\n",
    "    plt.bar(df[name_column], df[salary_column], color='blue')\n",
    "    plt.title('Adjusted Salaries of Employees')\n",
    "\n",
    "    plt.subplot(1, 2, 2)\n",
    "    plt.scatter(df[name_column], df[composite_score_column], color='red')\n",
    "    plt.axhline(y=df[composite_score_column].mean(), color='green', linestyle='--')\n",
    "    plt.title('Composite Scores with Average Line')\n",
    "\n",
    "    plt.show()\n",
    "    \n",
    "\n"
   ]
  },
  {
   "cell_type": "code",
   "execution_count": null,
   "metadata": {},
   "outputs": [],
   "source": [
    " # Filter employees and performance data\n",
    "df_employees_filtered = filter_data(df_employees, 'Age', 30)\n",
    "df_performance_filtered = filter_data(df_performance, 'Performance_Score', 250)\n",
    "    \n",
    "# Adjust salaries of filtered data\n",
    "df_employees_adjusted = adjust_salaries(\n",
    "    df_employees_filtered, 'Salary', 'Years_with_Company', 0.1\n",
    ")\n",
    "\n",
    "# Merge together and make composite score\n",
    "merged_df = merge_data(df_employees_adjusted, df_performance_filtered, 'Employee_ID')\n",
    "final_df = calculate_composite_score(\n",
    "    merged_df, 'Composite_Score', 'Years_with_Company', 'Performance_Score', 'Age'\n",
    ")\n",
    "\n",
    "plot_results(final_df, 'Employee_Name', 'Adjusted_Salary', 'Composite_Score')"
   ]
  },
  {
   "cell_type": "markdown",
   "metadata": {},
   "source": [
    "## Function composition\n",
    "\n",
    "Recall how we can put functions inside of functions? This could come in handy when we want to combine several smaller functions together into something greater."
   ]
  },
  {
   "cell_type": "code",
   "execution_count": null,
   "metadata": {},
   "outputs": [],
   "source": [
    "def double(x):\n",
    "    \"\"\"Double the input number.\"\"\"\n",
    "    return x * 2\n",
    "\n",
    "\n",
    "def square(x):\n",
    "    \"\"\"Square the input number.\"\"\"\n",
    "    return x**2\n",
    "\n",
    "\n",
    "def double_then_square(x):\n",
    "    \"\"\"Compose the double and square functions.\"\"\"\n",
    "    return square(double(x))\n",
    "\n",
    "\n",
    "# Test the composed function\n",
    "result = double_then_square(3)\n",
    "print(result)  # Output: 36 (double(3) = 6, square(6) = 36)\n"
   ]
  },
  {
   "cell_type": "markdown",
   "metadata": {},
   "source": [
    "Lets apply the same idea to our example with our pandas code from earlier. Note that this would make our code a bit more verbose and normally you would do this to a module you have designed. To the user however it would seem that we do very much with very little. Now let's compose some of our prior functions together."
   ]
  },
  {
   "cell_type": "code",
   "execution_count": null,
   "metadata": {},
   "outputs": [],
   "source": [
    "def filter_and_adjust_salaries(\n",
    "    df_employees: pd.DataFrame,\n",
    "    age_column: str,\n",
    "    salary_column: str,\n",
    "    years_with_company_column: str,\n",
    "    adjustment_factor: float,\n",
    "    age_threshold: int,\n",
    ") -> pd.DataFrame:\n",
    "    # Filter employees data based on the age threshold\n",
    "    filtered_df = filter_data(df_employees, age_column, age_threshold)\n",
    "\n",
    "    # Adjust salaries based on years with the company\n",
    "    adjusted_df = adjust_salaries(\n",
    "        filtered_df, salary_column, years_with_company_column, adjustment_factor\n",
    "    )\n",
    "\n",
    "    return adjusted_df\n",
    "\n",
    "\n",
    "def merge_and_calculate_composite_score(\n",
    "    df_employees: pd.DataFrame,\n",
    "    df_performance: pd.DataFrame,\n",
    "    merge_key: str,\n",
    "    composite_score_column: str,\n",
    "    years_with_company_column: str,\n",
    "    performance_score_column: str,\n",
    "    age_column: str,\n",
    ") -> pd.DataFrame:\n",
    "    \n",
    "    # Merge employees and performance data\n",
    "    merged_df = merge_data(df_employees, df_performance, merge_key)\n",
    "\n",
    "    # Calculate composite scores based on years with the company, performance score, and age\n",
    "    calculated_df = calculate_composite_score(\n",
    "        merged_df,\n",
    "        composite_score_column,\n",
    "        years_with_company_column,\n",
    "        performance_score_column,\n",
    "        age_column,\n",
    "    )\n",
    "\n",
    "    return calculated_df\n",
    "\n",
    "\n",
    "def filter_merge_and_calculate_composite_score(\n",
    "    df_employees: pd.DataFrame,\n",
    "    df_performance: pd.DataFrame,\n",
    "    merge_key: str,\n",
    "    age_column: str,\n",
    "    performance_score_column: str,\n",
    "    composite_score_column: str,\n",
    "    years_with_company_column: str,\n",
    "    age_threshold: int,\n",
    "    performance_threshold: int,\n",
    ") -> pd.DataFrame:\n",
    "    # Filter employees data based on the age threshold\n",
    "    filtered_employees_df = filter_data(df_employees, age_column, age_threshold)\n",
    "\n",
    "    # Filter performance data based on the performance score threshold\n",
    "    filtered_performance_df = filter_data(\n",
    "        df_performance, performance_score_column, performance_threshold\n",
    "    )\n",
    "\n",
    "    # Merge filtered employees and performance data\n",
    "    merged_df = merge_data(filtered_employees_df, filtered_performance_df, merge_key)\n",
    "\n",
    "    # Calculate composite scores based on years with the company, performance score, and age\n",
    "    calculated_df = calculate_composite_score(\n",
    "        merged_df,\n",
    "        composite_score_column,\n",
    "        years_with_company_column,\n",
    "        performance_score_column,\n",
    "        age_column,\n",
    "    )\n",
    "\n",
    "    return calculated_df\n"
   ]
  },
  {
   "cell_type": "code",
   "execution_count": null,
   "metadata": {},
   "outputs": [],
   "source": [
    "# This is what the user would see\n",
    "filter_merge_and_calculate_composite_score(\n",
    "    df_employees,\n",
    "    df_performance,\n",
    "    \"Employee_ID\",\n",
    "    \"Age\",\n",
    "    \"Performance_Score\",\n",
    "    \"Composite_Score\",\n",
    "    \"Years_with_Company\",\n",
    "    30,\n",
    "    250,\n",
    ")\n"
   ]
  },
  {
   "cell_type": "markdown",
   "metadata": {},
   "source": [
    "#### The pipe function in pandas - Another way of doing composition on dataframes\n",
    "We'll cover this later, but i'm showing it to you now so you ask your favourite LLM-model to help you do something similar. Basically, there is this function in pandas which is called .pipe() which can help us not make so many redundant dataframes when we want to reach an end result. It can make for some really concise coding but should be used with caution. I.e. you should name your functions wisely before using it so it's clear to the user what you're doing.\n",
    "\n",
    "The only requirement is that the functions you chain together take a df or pandas series in as its first argument, and that it returns a df or pandas series. More info and examples here: https://pandas.pydata.org/docs/reference/api/pandas.DataFrame.pipe.html"
   ]
  },
  {
   "cell_type": "code",
   "execution_count": null,
   "metadata": {
    "tags": []
   },
   "outputs": [],
   "source": [
    "df_employees_filtered = filter_data(df_employees, 'Age', 30)\n",
    "df_performance_filtered = filter_data(df_performance, 'Performance_Score', 250)\n",
    "\n",
    "final_df = (\n",
    "    adjust_salaries(df_employees_filtered, 'Salary', 'Years_with_Company', 0.1)\n",
    "    .pipe(merge_data, df_performance_filtered, 'Employee_ID')\n",
    "    .pipe(calculate_composite_score, 'Composite_Score', 'Years_with_Company', 'Performance_Score', 'Age')\n",
    "    )\n",
    "\n",
    "plot_results(final_df, 'Employee_Name', 'Adjusted_Salary', 'Composite_Score')"
   ]
  }
 ],
 "metadata": {
  "kernelspec": {
   "display_name": "Python 3 (ipykernel)",
   "language": "python",
   "name": "python3"
  },
  "language_info": {
   "codemirror_mode": {
    "name": "ipython",
    "version": 3
   },
   "file_extension": ".py",
   "mimetype": "text/x-python",
   "name": "python",
   "nbconvert_exporter": "python",
   "pygments_lexer": "ipython3",
   "version": "3.10.9"
  }
 },
 "nbformat": 4,
 "nbformat_minor": 4
}
