{
 "cells": [
  {
   "cell_type": "markdown",
   "metadata": {},
   "source": [
    "# 02: Datatyper i Python, med funksjoner til dessert\n",
    "**Forfatter:** Benedikt Goodman \\\n",
    "**Medhjelpere:** Mistral Large, ChatGPT-4\n",
    "\n",
    "Denne leksjonen er et sammensurium av ting jeg har stjålet, ting jeg har laget selv, og ting jeg fått fra både Mistral og Chat-GPT. Derfor er denne notebooken på Engelsk.\n",
    "\n",
    "## An introduction to Python's in-built datatypes\n",
    "\n",
    "Python has several in-built datatypes that we can use to structure and manipulate our data. These can be broadly categorized into two types: atomic datatypes and container datatypes.\n",
    "\n",
    "### Atomic Datatypes\n",
    "\n",
    "Atomic datatypes are the simplest forms of data that Python can work with. They are `immutable`, meaning their value cannot be changed once they are created. Examples of atomic datatypes include:\n",
    "\n",
    "    int (integer): This is a whole number. For example, 3, -10, 0.\n",
    "    float (floating point number): This is a decimal number. For example, 3.14, -0.1, 10.0.\n",
    "    str (string): This is a sequence of characters. For example, \"Hello\", 'World', \"123\".\n",
    "    bool (boolean): This is a binary value, either True or False.\n",
    "\n",
    "Much like we covered in the previous lecture, all these are `objects` with their own `properties` and `methods`\n",
    "\n",
    "Here's an example of how to use these datatypes:"
   ]
  },
  {
   "cell_type": "code",
   "execution_count": null,
   "metadata": {},
   "outputs": [],
   "source": [
    "# Atomic datatypes, we call them this because they only store \"one thing\"\n",
    "my_int = 10\n",
    "my_float = 3.14\n",
    "my_str = \"Hello, World!\"\n",
    "my_bool = True"
   ]
  },
  {
   "cell_type": "code",
   "execution_count": null,
   "metadata": {},
   "outputs": [],
   "source": [
    "# All these have their inbuilt method, even boolean values have these, here are some methods\n",
    "print('Some of the methods that bool has:\\n', dir(my_bool)[-10:])\n",
    "\n",
    "# Showing the byte representation of the boolean\n",
    "my_bool.conjugate()"
   ]
  },
  {
   "cell_type": "markdown",
   "metadata": {},
   "source": [
    "### Container datatypes\n",
    "\n",
    "Container datatypes, on the other hand, can hold multiple values at once. They are mutable, meaning their content can be changed after they are created. Examples of container datatypes include:\n",
    "\n",
    "- `list`: This is an ordered, mutable sequence of items. Items in a list can be of different types.\n",
    "- `tuple`: This is an ordered, immutable sequence of items. Like lists, items in a tuple can be of different types.\n",
    "- `dict` (dictionary): This is an ordered, mutable collection of key-value pairs.\n",
    "\n",
    "Note, all of these have their own bound methods which can do all sorts of handy things. That's not the point of this lecture, the point here is to simply illustrate their versatility.\n",
    "\n",
    "Here's a simple example of how to instatiate the different containers:\n"
   ]
  },
  {
   "cell_type": "code",
   "execution_count": null,
   "metadata": {},
   "outputs": [],
   "source": [
    "# Container \n",
    "\n",
    "# List uses square brackets\n",
    "my_list = [1, 2, 3, \"Python\"]\n",
    "\n",
    "# Tuples use regular brackets\n",
    "my_tuple = (1, 2, 3, \"Python\")\n",
    "\n",
    "# Dicts use curly brackets but have key: value pairs\n",
    "my_dict = {\"language\": \"Python\", \"year\": 1991}\n",
    "\n",
    "# Sets have curly brackets but only items like a list, i.e. no key: value\n",
    "my_set = {1, 2, 3}"
   ]
  },
  {
   "cell_type": "markdown",
   "metadata": {},
   "source": [
    "### Hashed Containers vs Non-Hashed Containers\n",
    "\n",
    "One key difference between dictionaries and lists (or tuples) is how they handle lookups. Dictionaries are hashed containers, meaning they use a `hash-table` for storing items, which allows for *fast lookups*. Lists and tuples, on the other hand, are `non-hashed` containers, meaning lookups are done sequentially, which can be slower for large datasets.\n",
    "\n",
    "**TLDR about hashing**: When we say that something is hashed, we mean that something is indexed and can be quickly retrieved using that index. It basically means that the computer already knows where to look and only uses one operation to find it. If something is non-hashed it is not indexed and the computer has to loop through it to find it, hence using many operations.\n",
    "\n",
    "The longer, nerdier version:\n",
    "\n",
    "In Python, hashing refers to the process of converting an object into a fixed-size string of bytes, known as a hash value or hash digest. The hash value is used as an index to quickly locate the original object in a hash table, which is a data structure used for implementing associative arrays or dictionaries.\n",
    "\n",
    "When we say that an object is hashed in Python, we mean that it has a hash value that can be used to store and retrieve the object in a hash table. Objects that are hashed in Python must be immutable, because their hash value must remain constant over the lifetime of the object.\n",
    "\n",
    "On the other hand, non-hashed objects in Python do not have a hash value and cannot be used as keys in a dictionary or as elements in a set. Non-hashed objects can be mutable or immutable.\n"
   ]
  },
  {
   "cell_type": "code",
   "execution_count": null,
   "metadata": {},
   "outputs": [],
   "source": [
    "large_list  = [item for item in range(1000000)]\n",
    "large_dict = {f'{item}': item for item in range(1000000)}"
   ]
  },
  {
   "cell_type": "code",
   "execution_count": null,
   "metadata": {},
   "outputs": [],
   "source": [
    "%%timeit\n",
    "# Filtration of the list if we don't know the exact position of an entry means we have to iterate through the entire list\n",
    "[item for item in large_list if item == 666]"
   ]
  },
  {
   "cell_type": "code",
   "execution_count": null,
   "metadata": {},
   "outputs": [],
   "source": [
    "%%timeit\n",
    "# Dicts on the other hand allow you to name the keys. \n",
    "# And you usually tend to know what keys you want to extract from a dict.\n",
    "large_dict['666']"
   ]
  },
  {
   "cell_type": "markdown",
   "metadata": {},
   "source": [
    "One of the powerful features of Python's container datatypes is that they can store any type of object, including other iterables, functions, and even classes. This makes them extremely versatile and useful for storing complex data, functions, and so forth. You can even store *containers within containers*."
   ]
  },
  {
   "cell_type": "code",
   "execution_count": null,
   "metadata": {},
   "outputs": [],
   "source": [
    "# Storing iterables in container datatypes is no problem\n",
    "my_list_of_lists = [[1, 2, 3], [4, 5, 6], [7, [8, [9]]]]\n",
    "my_dict_of_tuples = {\"tuple1\": (1, 2, 3), \"tuple2\": (4, 5, 6)}\n",
    "\n",
    "# This is useful for when you want to treat a subset of data stored in a container\n",
    "[sum(item) for key, item in my_dict_of_tuples.items() if key == 'tuple1']"
   ]
  },
  {
   "cell_type": "markdown",
   "metadata": {},
   "source": [
    "You can also store functions in container datatypes. This is useful when you want to pass around functions as data or apply different functions to the same data."
   ]
  },
  {
   "cell_type": "code",
   "execution_count": null,
   "metadata": {},
   "outputs": [],
   "source": [
    "# Storing functions in container datatypes\n",
    "def add(x, y):\n",
    "    return x + y\n",
    "\n",
    "def subtract(x, y):\n",
    "    return x - y\n",
    "\n",
    "# Make a dict of functions\n",
    "my_dict_of_functions = {\"add\": add, \"subtract\": subtract}\n",
    "\n",
    "# You can call these functions like this\n",
    "print(my_dict_of_functions[\"add\"](5, 3))  # Output: 8\n",
    "print(my_dict_of_functions[\"subtract\"](5, 3))  # Output: 2"
   ]
  },
  {
   "cell_type": "markdown",
   "metadata": {},
   "source": [
    "Can you store dataframes and other classes inside containers? Absolutely. Let's see how we can use containers to apply the same treatment to two pandas dataframes.\n",
    "\n",
    "Suppose we wanted to select string columns from three different DataFrames and concatenate them into a separate DataFrame"
   ]
  },
  {
   "cell_type": "code",
   "execution_count": null,
   "metadata": {},
   "outputs": [],
   "source": [
    "import pandas as pd\n",
    "\n",
    "# Create DataFrame 1\n",
    "data1 = {\n",
    "    \"A\": [1, 2, 3],\n",
    "    \"B\": [\"foo\", \"bar\", \"baz\"],\n",
    "    \"C\": [4.1, 5.2, 6.3]\n",
    "}\n",
    "df1 = pd.DataFrame(data1)\n",
    "\n",
    "# Create DataFrame 2\n",
    "data2 = {\n",
    "    \"D\": [7, 8, 9],\n",
    "    \"E\": [\"qux\", \"quux\", \"corge\"],\n",
    "    \"F\": [8.4, 9.5, 10.6]\n",
    "}\n",
    "df2 = pd.DataFrame(data2)\n",
    "\n",
    "# Create DataFrame 3\n",
    "data3 = {\n",
    "    \"G\": [11, 12, 13],\n",
    "    \"H\": [\"grault\", \"garply\", \"waldo\"],\n",
    "    \"I\": [12.7, 13.8, 14.9]\n",
    "}\n",
    "df3 = pd.DataFrame(data3)\n",
    "\n",
    "df1.head()"
   ]
  },
  {
   "cell_type": "code",
   "execution_count": null,
   "metadata": {},
   "outputs": [],
   "source": [
    "# Select the string columns from each DataFrame\n",
    "string_cols = [df.select_dtypes(include=[\"object\"]) for df in [df1, df2, df3]]\n",
    "\n",
    "# String cols is now a list of small dataframes\n",
    "print('Datatypes of string_cols:',[type(col) for col in string_cols])\n",
    "\n",
    "string_cols"
   ]
  },
  {
   "cell_type": "code",
   "execution_count": null,
   "metadata": {},
   "outputs": [],
   "source": [
    "# Make them into one dataframe\n",
    "pd.concat(string_cols, axis=1)"
   ]
  },
  {
   "cell_type": "markdown",
   "metadata": {},
   "source": [
    "### Containers like dicts and lists are easily combined"
   ]
  },
  {
   "cell_type": "code",
   "execution_count": null,
   "metadata": {},
   "outputs": [],
   "source": [
    "# Lets make two dicts\n",
    "dict1 = {\"a\": 1, \"b\": 2}\n",
    "dict2 = {\"c\": 3, \"d\": 4}\n",
    "\n",
    "# Combine the dictionaries with **\n",
    "combined = {**dict1, **dict2}\n",
    "\n",
    "combined"
   ]
  },
  {
   "cell_type": "code",
   "execution_count": null,
   "metadata": {},
   "outputs": [],
   "source": [
    "# Making two lists\n",
    "list1 = [1, 2, 3]\n",
    "list2 = [4, 5, 6]\n",
    "\n",
    "# Combine the lists with *, let's stuff the dataframes in there as well to prove how versatile they are\n",
    "[*list1, *list2, *string_cols]"
   ]
  },
  {
   "cell_type": "markdown",
   "metadata": {},
   "source": [
    "## Immutable objects vs mutable objects, a word of caution\n",
    "\n",
    "In Python, objects can be either `mutable` or `immutable`. Mutable objects **can be modified after they are created**, while **immutable objects cannot**. Lists are an example of a mutable object, while tuples are an example of an immutable object.\n",
    "\n",
    "Here's an example that illustrates the difference between mutability and immutability:"
   ]
  },
  {
   "cell_type": "code",
   "execution_count": null,
   "metadata": {},
   "outputs": [],
   "source": [
    "# Create a list (mutable object)\n",
    "my_list = [1, 2, 3]\n",
    "\n",
    "# Create a tuple (immutable object)\n",
    "my_tuple = (1, 2, 3)\n",
    "\n",
    "# Modify the list\n",
    "my_list[0] = 10\n",
    "print(my_list)  # Output: [10, 2, 3]\n",
    "\n",
    "# Try to modify the tuple (this will raise an error)\n",
    "try:\n",
    "    my_tuple[0] = 10\n",
    "except TypeError:\n",
    "    print(\"Cannot modify a tuple\")"
   ]
  },
  {
   "cell_type": "markdown",
   "metadata": {},
   "source": [
    "In the example above, we first create a list `my_list` and a tuple `my_tuple`. We then modify the first element of the list to be `10`. Since lists are mutable, this modification is allowed and the output is `[10, 2, 3]`.\n",
    "\n",
    "We then try to modify the first element of the tuple to be `10`. However, since tuples are immutable, this modification is not allowed and a `TypeError` is raised.\n",
    "\n",
    "### The Problem with Mutability\n",
    "\n",
    "While mutability can be useful in some cases, it can also be a problem in others. Here's an example that illustrates how mutability can lead to unexpected behavior:"
   ]
  },
  {
   "cell_type": "code",
   "execution_count": null,
   "metadata": {},
   "outputs": [],
   "source": [
    "#Create a list of lists\n",
    "my_list = [[1, 2, 3], [4, 5, 6], [7, 8, 9]]\n",
    "\n",
    "# Create a new list that references the same data as my_list\n",
    "my_other_list = my_list\n",
    "\n",
    "# Modify the first element of the first sublist in my_other_list\n",
    "my_other_list[0][0] = 10\n",
    "\n",
    "# Print both lists\n",
    "print(\"my_list:\", my_list)\n",
    "print(\"my_other_list:\", my_other_list)"
   ]
  },
  {
   "cell_type": "markdown",
   "metadata": {},
   "source": [
    "In the example above, we first create a list of lists `my_list`. We then create a new list `my_other_list` that references the same data as `my_list`.\n",
    "\n",
    "We then modify the first element of the first sublist in `my_other_list` to be `10`. Since `my_other_list` references the same data as `my_list`, this modification also affects `my_list`.\n",
    "\n",
    "When we print both lists, we see that the modification has affected both lists.\n",
    "\n",
    "This behaviour is present in all mutable objects in python, including any type of dataframe object in pandas, polars and all other libraries in Python in which we manpulate data in dataframe-like objects"
   ]
  },
  {
   "cell_type": "code",
   "execution_count": null,
   "metadata": {},
   "outputs": [],
   "source": [
    "# Mutability \n",
    "# Create a DataFrame with some data\n",
    "df1 = pd.DataFrame({\"A\": [1, 2, 3], \"B\": [4, 5, 6]})\n",
    "\n",
    "# Create a new DataFrame that references the same data as df1\n",
    "df2 = df1\n",
    "\n",
    "# Modify df2 by adding a new column\n",
    "df2[\"C\"] = [7, 8, 9]\n",
    "\n",
    "# Print both DataFrames, we see that they both have a \n",
    "print(\"df1:\")\n",
    "print(df1)\n",
    "print(\"\\ndf2:\")\n",
    "print(df2)"
   ]
  },
  {
   "cell_type": "markdown",
   "metadata": {},
   "source": [
    "To fix mutability related issues in pandas we can use `df.copy()`"
   ]
  },
  {
   "cell_type": "code",
   "execution_count": null,
   "metadata": {},
   "outputs": [],
   "source": [
    "# df.copy() saves the day\n",
    "df3 = df2.copy()\n",
    "df3['D'] = 'yay, no mutability issues detected'\n",
    "\n",
    "print(\"df2:\")\n",
    "print(df2)\n",
    "print(\"\\ndf3:\")\n",
    "print(df3)\n"
   ]
  },
  {
   "cell_type": "markdown",
   "metadata": {},
   "source": [
    "## A primer on functions\n",
    "\n",
    "Functions are reusable blocks of code that perform a specific task. In Python, functions are defined using the `def` keyword, followed by the function name, a set of parentheses that may contain input parameters, and a colon. The code block that makes up the function is indented beneath the function definition."
   ]
  },
  {
   "cell_type": "code",
   "execution_count": null,
   "metadata": {},
   "outputs": [],
   "source": [
    "def add_numbers(x, y):\n",
    "    sum = x + y\n",
    "    return sum"
   ]
  },
  {
   "cell_type": "markdown",
   "metadata": {},
   "source": [
    "### Why are functions useful?\n",
    "\n",
    "Functions are useful because they allow you to encapsulate a specific task in a reusable block of code. This makes your code more modular, easier to read and understand, and easier to test and debug.\n",
    "\n",
    "Functions also allow you to pass input parameters to the function, which can be used to customize the behavior of the function for different use cases. Functions can also return output values, which can be used in other parts of your code.\n",
    "\n",
    "### Scope inside of the function vs outside\n",
    "\n",
    "In Python, variables defined inside a function have local scope, which means that they are only accessible within the function. Variables defined outside of a function have global scope, which means that they are accessible from within any function."
   ]
  },
  {
   "cell_type": "code",
   "execution_count": null,
   "metadata": {},
   "outputs": [],
   "source": [
    "# Define a global variable\n",
    "x = 10\n",
    "\n",
    "# Define a function that uses the global variable\n",
    "def use_global_variable():\n",
    "    print(\"x inside function:\", x)\n",
    "\n",
    "# Call the function\n",
    "use_global_variable()\n",
    "\n",
    "# Define a function that defines a local variable with the same name as the global variable\n",
    "def use_local_variable():\n",
    "    x = 20\n",
    "    print(\"x inside function:\", x)\n",
    "\n",
    "# Call the function\n",
    "use_local_variable()\n",
    "\n",
    "# Print the value of the global variable\n",
    "print(\"x outside function:\", x)"
   ]
  },
  {
   "cell_type": "markdown",
   "metadata": {},
   "source": [
    "### Functions can only return one thing\n",
    "\n",
    "In Python, functions can only return one value. However, you can use a tuple to return multiple values from a function. Most of the time however it is better to just have one function return one thing. It makes your code easier to understand.\n",
    "\n",
    "It is generally a good guideline to have a function do one thing and one thing only."
   ]
  },
  {
   "cell_type": "code",
   "execution_count": null,
   "metadata": {},
   "outputs": [],
   "source": [
    "def calculate_stats(numbers):\n",
    "    total = sum(numbers)\n",
    "    average = total / len(numbers)\n",
    "    minimum = min(numbers)\n",
    "    maximum = max(numbers)\n",
    "    return total, average, minimum, maximum\n",
    "\n",
    "# Call the function with a list of numbers\n",
    "stats = calculate_stats([1, 2, 3, 4, 5])\n",
    "\n",
    "# Function returns a tuple (i.e. \"one thing\") with the calculated values\n",
    "print('What the function returns:', stats)\n",
    "\n",
    "# Unpack the tuple returned by the function\n",
    "total, average, minimum, maximum = stats\n",
    "\n",
    "# Print the calculated stats\n",
    "print(\"Total:\", total)\n",
    "print(\"Average:\", average)\n",
    "print(\"Minimum:\", minimum)\n",
    "print(\"Maximum:\", maximum)"
   ]
  },
  {
   "cell_type": "markdown",
   "metadata": {},
   "source": []
  },
  {
   "cell_type": "markdown",
   "metadata": {},
   "source": [
    "### Optional reading on how mutability-issues come about\n",
    "\n",
    "In Python, mutability stems from how Python stores and assigns names to objects in memory. When you create an object in Python, such as a list or a dictionary, Python stores that object in memory and assigns it a unique memory address.\n",
    "\n",
    "When you assign a name to an object in Python, you are creating a reference to that object in memory. For example, consider the following code:\n",
    "\n",
    "```python\n",
    "my_list = [1, 2, 3]\n",
    "```\n",
    "In this code, we are creating a list object `[1, 2, 3]` and assigning it to the name `my_list`. Python stores this list object in memory and assigns it a unique memory address. The name `my_list` is then associated with this memory address, so that we can use `my_list` to refer to the list object.\n",
    "\n",
    "Now, suppose we create a new name that refers to the same list object:\n",
    "```python\n",
    "my_other_list = my_list\n",
    "```\n",
    "In this code, we are creating a new name `my_other_list` and assigning it to the same memory address as `my_list`. This means that both `my_list` and `my_other_list` now refer to the same list object in memory.\n",
    "\n",
    "Since lists are mutable in Python, we can modify the list object in place using either name. For example:\n",
    "```python\n",
    "my_list.append(4)\n",
    "print(my_other_list)  # Output: [1, 2, 3, 4]\n",
    "```\n",
    "In this code, we are using the `append()` method to add a new element to the list object referred to by `my_list`. Since `my_other_list` refers to the same list object, this modification is also visible when we print `my_other_list`.\n",
    "\n",
    "This behavior is what leads to mutability issues in Python. Since multiple names can refer to the same mutable object in memory, modifications to that object can have unexpected effects on other parts of your code that are using the same object.\n",
    "\n",
    "To avoid mutability issues, it's often a good idea to use immutable objects whenever possible. Immutable objects, such as tuples in Python, cannot be modified after they have been created. This means that each immutable object has a unique value, and multiple names can refer to that value without causing mutability issues."
   ]
  },
  {
   "cell_type": "code",
   "execution_count": null,
   "metadata": {},
   "outputs": [],
   "source": [
    "# create a list\n",
    "my_list = [1, 2, 3]\n",
    "\n",
    "# my_list and my_other_list are now assigned the same memory-address\n",
    "my_other_list = my_list\n",
    "\n",
    "# proof they are the same\n",
    "print('memory-address of my_list:', id(my_list))\n",
    "print('memory-address of my_other_list:', id(my_other_list))"
   ]
  },
  {
   "cell_type": "markdown",
   "metadata": {},
   "source": [
    "In this code, we are creating a list object `[1, 2, 3]` and assigning it to the name `my_list`. Python stores this list object in memory and assigns it a unique memory address. The name `my_list` is then associated with this memory address, so that we can use `my_list` to refer to the list object.\n",
    "\n",
    "When we create `my_other_list` from `my_list` directly they share a memory-address. This means that both `my_list` and `my_other_list` now refer to the same list object in memory.\n",
    "\n",
    "Since lists are mutable in Python, we can modify the list object in place using either name. For example:\n",
    "```python\n",
    "my_list.append(4)\n",
    "print(my_other_list)  # Output: [1, 2, 3, 4]\n",
    "```\n",
    "In this code, we are using the `append()` method to add a new element to the list object referred to by `my_list`. Since `my_other_list` refers to the same list object, this modification is also visible when we print `my_other_list`.\n",
    "\n",
    "This behavior is what leads to mutability issues in Python. Since multiple names can refer to the same mutable object in memory, modifications to that object can have unexpected effects on other parts of your code that are using the same object.\n",
    "\n",
    "To avoid mutability issues, it's often a good idea to use immutable objects whenever possible. Immutable objects, such as tuples in Python, cannot be modified after they have been created. This means that each immutable object has a unique value, and multiple names can refer to that value without causing mutability issues."
   ]
  },
  {
   "cell_type": "code",
   "execution_count": null,
   "metadata": {},
   "outputs": [],
   "source": [
    "my_list.append(4)\n",
    "print(my_other_list)"
   ]
  },
  {
   "cell_type": "markdown",
   "metadata": {},
   "source": [
    "In this code, we are using the `append()` method to add a new element to the list object referred to by `my_list`. Since `my_other_list` refers to the same list object, this modification is also visible when we print `my_other_list`.\n",
    "\n",
    "This behavior is what leads to mutability issues in Python. Since multiple names can refer to the same mutable object in memory, modifications to that object can have unexpected effects on other parts of your code that are using the same object.\n",
    "\n",
    "To avoid mutability issues, it's often a good idea to use immutable objects whenever possible. Immutable objects, such as tuples in Python, cannot be modified after they have been created. This means that each immutable object has a unique value, and multiple names can refer to that value without causing mutability issues."
   ]
  }
 ],
 "metadata": {
  "kernelspec": {
   "display_name": "nr_hovedbokapplikasjon",
   "language": "python",
   "name": "nr_hovedbokapplikasjon"
  },
  "language_info": {
   "codemirror_mode": {
    "name": "ipython",
    "version": 3
   },
   "file_extension": ".py",
   "mimetype": "text/x-python",
   "name": "python",
   "nbconvert_exporter": "python",
   "pygments_lexer": "ipython3",
   "version": "3.10.9"
  }
 },
 "nbformat": 4,
 "nbformat_minor": 4
}
