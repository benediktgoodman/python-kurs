{
 "cells": [
  {
   "cell_type": "markdown",
   "metadata": {},
   "source": [
    "# 01: Hva mener vi *egentlig* med at alt er et objekt i Python?\n",
    "\n",
    "Forfatter: Benedikt Goodman, seksjon for Nasjonalregnskap\n",
    "\n",
    "\n",
    "I Python er *alt* et `object`, noe som betyr at hver verdi eller datastruktur du jobber med, har et sett med `attributes` og `methods` assosiert med seg. `attributes`, (også kalt `properties`, de refererer til samme ting), er dataelementer relatert til et `object`, som for eksempel definerer et `objects` lengde eller innhold. `classes` og `objects` betyr det samme, og brukes om hverandre i litteraturen og i all dokumentasjon. \n",
    "\n",
    "`methods`, på den annen side, er `functions` som er definert inne i et `object` og kan utføre operasjoner med eller på objektet og dets properties. For eksempel kan et string-objekt ha en method for å konvertere alle tegn til store bokstaver, mens en liste kan ha en method for å legge til eller fjerne elementer i den.\n",
    "\n",
    "Denne objektorienterte tilnærmingen er det som egentlig bestemmer hva objekter kan, hvilken informasjon de bærer med seg og hva slags funksjoner de er kompatible med. Vi kaller dette ofte for `the python datamodel`. Det er ikke viktig å huske detaljene om denne, men det er fint å vite at den eksisterer og at den legger til grunn hva som er mulig og hva som ikke er mulig å gjøre med et objekt i Python.\n",
    "\n",
    "Selv noe så enkelt som et tall er et objekt.\n",
    "\n",
    "**TLDR for de med dårlig tid**:\n",
    "I Python er alt et objekt som følger en konsistent datamodell (the Python datamodel). Objekter har attributter (data) og metoder (funksjoner) som definerer deres oppførsel. Dette gjelder overalt alltid og er grunnen til at vi sier at python er objektorientert og at syntaksen er så nice😎"
   ]
  },
  {
   "cell_type": "code",
   "execution_count": null,
   "metadata": {},
   "outputs": [],
   "source": [
    "# Example 1: Basic data types\n",
    "# Definition of an integer\n",
    "x = 10\n",
    "\n",
    "# Show the properties and methods of the integer class\n",
    "dir(x) "
   ]
  },
  {
   "cell_type": "markdown",
   "metadata": {},
   "source": [
    "Metodene tilknyttet et `object` som har dobbel understrek rundt seg (disse kaller man ofte `dunder methods` eller `magic method`) er skjulte metoder som regulerer klassens atferd.\n",
    "\n",
    "## Hva er forskjellen på en property og en method?\n",
    "\n",
    "En `property` (eller `attribute`, de betyr det samme) er data som er lagret i objektet. Dette kan i prinsippet være hvilken datatype som helst. `strings`, `ints`, `floats`, `lists`, `pd.DataFrames`. Her er det mange muligheter. For å se disse bruker man følgende syntaks:\n",
    "\n",
    "```python\n",
    "objektnavn.navn_på_property\n",
    "```\n",
    "Legg merke til at man ikke bruker parenteser når man kaller på disse. Alt som ikke har parantaser bak seg er en property som tilhører et `object`. Husk at man må ha definert disse på forhånd for å kunne se attributtene (i.e. de må ligge i minnet før du får sett dem).\n",
    "\n",
    "## Eksempel 1: Innebygde objekter som `int`, `string` og `list`"
   ]
  },
  {
   "cell_type": "code",
   "execution_count": null,
   "metadata": {},
   "outputs": [],
   "source": [
    "# An int gets assigned multiple properties when we define it. For example it is also represented internally as a fraction with numerator and denominator\n",
    "print(f'Numerator: {x.numerator}', f'\\nDenominator: {x.denominator}')\n",
    "\n",
    "# We've also implicitly now made the real component of the integer\n",
    "print(f'Real component: {x.real}')\n",
    "\n",
    "# But not the imaginary component\n",
    "print(f'Imaginary component: {x.imag}')"
   ]
  },
  {
   "cell_type": "markdown",
   "metadata": {},
   "source": [
    "Her er en metode som er tilknyttet `int` klassen."
   ]
  },
  {
   "cell_type": "code",
   "execution_count": null,
   "metadata": {},
   "outputs": [],
   "source": [
    "# Shows the amounts of memory needed to store the number\n",
    "x.bit_count()"
   ]
  },
  {
   "cell_type": "markdown",
   "metadata": {},
   "source": [
    "Man kan se alle methods og attributes tilknyttet et object ved hjelp av en såkalt `LSP` som er et program som hjelper deg å se hva noe er i Python. Dette er drop-down menyene man ser dersom man trykker `shift+tab` mens man er inne i en kodecelle på Dapla. Dropdown-menyen vises der tekstmarkøren befinner seg."
   ]
  },
  {
   "cell_type": "code",
   "execution_count": null,
   "metadata": {},
   "outputs": [],
   "source": [
    "x"
   ]
  },
  {
   "cell_type": "code",
   "execution_count": null,
   "metadata": {},
   "outputs": [],
   "source": [
    "# Strings\n",
    "s = 'Hello, world!'\n",
    "\n",
    "# Show methods and attributes attached to the string class\n",
    "dir(s)"
   ]
  },
  {
   "cell_type": "code",
   "execution_count": null,
   "metadata": {},
   "outputs": [],
   "source": [
    "l = [1, 2, 3]\n",
    "\n",
    "dir(l)"
   ]
  },
  {
   "cell_type": "markdown",
   "metadata": {},
   "source": [
    "## Eksempel 2: Metoder og attributter i en klasse vi designer selv\n",
    "\n",
    "La oss lage et `object` selv. Ikke ta dette som en fasit på hvordan man designer disse, ta det heller som et eksempel på hvordan data lagres inni en `class`. Vi kommer tilbake til hvordan man designer klasser ved en annen anledning. Merk at her bruker vi `attributes` og `methods` i et `object` til å gjøre et eller annet. Slik er det med mer eller mindre alt i Python. "
   ]
  },
  {
   "cell_type": "code",
   "execution_count": 9,
   "metadata": {},
   "outputs": [],
   "source": [
    "# Example 2: Custom class\n",
    "class Dog:\n",
    "    def __init__(self, name: str, age: int):\n",
    "        \"\"\"Defines which variables we set upon the construction \"\"\"\n",
    "        # The variables below are the attributes made \n",
    "        self.name = name\n",
    "        self.age = age\n",
    "        self._alive_criteria = (self.age > 0 and self.age <= 17)\n",
    "        \n",
    "        \n",
    "    def _check_alive_status(self):\n",
    "        if self._alive_criteria:\n",
    "            self.alive = True\n",
    "        else:\n",
    "            self.alive = False\n",
    "    \n",
    "    def bark(self):\n",
    "        # See if dog is alive\n",
    "        self._check_alive_status()\n",
    "        \n",
    "        # Woof or howl\n",
    "        if self.alive is True:\n",
    "            print(f'{self.name} says Woof!')\n",
    "        else:\n",
    "            print(f'{self.name} howls spookily from the great beyond')\n",
    "        \n",
    "    def check_age(self):\n",
    "        if self.age > 0 and self.age <= 17:\n",
    "            print(f'{self.name} is {self.age} years old.')\n",
    "        elif self.age > 17:\n",
    "            print(f'Oh no! {self.name} died of old age :(')\n",
    "        else:\n",
    "            print(f'{self.name} isnt born yet')\n",
    "    \n"
   ]
  },
  {
   "cell_type": "code",
   "execution_count": 10,
   "metadata": {},
   "outputs": [
    {
     "data": {
      "text/plain": [
       "['__class__',\n",
       " '__delattr__',\n",
       " '__dict__',\n",
       " '__dir__',\n",
       " '__doc__',\n",
       " '__eq__',\n",
       " '__format__',\n",
       " '__ge__',\n",
       " '__getattribute__',\n",
       " '__getstate__',\n",
       " '__gt__',\n",
       " '__hash__',\n",
       " '__init__',\n",
       " '__init_subclass__',\n",
       " '__le__',\n",
       " '__lt__',\n",
       " '__module__',\n",
       " '__ne__',\n",
       " '__new__',\n",
       " '__reduce__',\n",
       " '__reduce_ex__',\n",
       " '__repr__',\n",
       " '__setattr__',\n",
       " '__sizeof__',\n",
       " '__str__',\n",
       " '__subclasshook__',\n",
       " '__weakref__',\n",
       " '_alive_criteria',\n",
       " '_check_alive_status',\n",
       " 'age',\n",
       " 'bark',\n",
       " 'check_age',\n",
       " 'name']"
      ]
     },
     "execution_count": 10,
     "metadata": {},
     "output_type": "execute_result"
    }
   ],
   "source": [
    "# Creating an instance of the Dog class\n",
    "lassie = Dog('Lassie', 4)\n",
    "\n",
    "# Show the attributes and methods of our class\n",
    "dir(lassie)"
   ]
  },
  {
   "cell_type": "code",
   "execution_count": 11,
   "metadata": {},
   "outputs": [
    {
     "data": {
      "text/plain": [
       "4"
      ]
     },
     "execution_count": 11,
     "metadata": {},
     "output_type": "execute_result"
    }
   ],
   "source": [
    "# As we wrote in the previous cell, Lassies age is 4\n",
    "lassie.age"
   ]
  },
  {
   "cell_type": "code",
   "execution_count": 12,
   "metadata": {},
   "outputs": [
    {
     "name": "stdout",
     "output_type": "stream",
     "text": [
      "Lassie says Woof!\n",
      "Lassie is 4 years old.\n"
     ]
    }
   ],
   "source": [
    "# Lassie can also now use the methods we gave it\n",
    "lassie.bark()\n",
    "\n",
    "# Show age\n",
    "lassie.check_age()"
   ]
  },
  {
   "cell_type": "code",
   "execution_count": 13,
   "metadata": {},
   "outputs": [
    {
     "name": "stdout",
     "output_type": "stream",
     "text": [
      "Oh no! Lassie died of old age :(\n"
     ]
    }
   ],
   "source": [
    "# We can set properties in classes to new values\n",
    "lassie.age = 100\n",
    "\n",
    "# This might affect behaviour in a class and cause variables to change or methods to respond differently\n",
    "lassie.check_age()\n"
   ]
  },
  {
   "cell_type": "code",
   "execution_count": 14,
   "metadata": {},
   "outputs": [
    {
     "name": "stdout",
     "output_type": "stream",
     "text": [
      "Snoopy howls spookily from the great beyond\n"
     ]
    }
   ],
   "source": [
    "# The rules defined in the object applies to all instances of that class\n",
    "snoopy = Dog('Snoopy', 0)\n",
    "snoopy.bark()"
   ]
  },
  {
   "cell_type": "markdown",
   "metadata": {},
   "source": [
    "## "
   ]
  },
  {
   "cell_type": "markdown",
   "metadata": {},
   "source": [
    "## Eksempel 3: Metoder og attributter i en pandas DataFrame"
   ]
  },
  {
   "cell_type": "code",
   "execution_count": 15,
   "metadata": {},
   "outputs": [
    {
     "data": {
      "text/html": [
       "<div>\n",
       "<style scoped>\n",
       "    .dataframe tbody tr th:only-of-type {\n",
       "        vertical-align: middle;\n",
       "    }\n",
       "\n",
       "    .dataframe tbody tr th {\n",
       "        vertical-align: top;\n",
       "    }\n",
       "\n",
       "    .dataframe thead th {\n",
       "        text-align: right;\n",
       "    }\n",
       "</style>\n",
       "<table border=\"1\" class=\"dataframe\">\n",
       "  <thead>\n",
       "    <tr style=\"text-align: right;\">\n",
       "      <th></th>\n",
       "      <th>Name</th>\n",
       "      <th>Age</th>\n",
       "    </tr>\n",
       "  </thead>\n",
       "  <tbody>\n",
       "    <tr>\n",
       "      <th>0</th>\n",
       "      <td>Alice</td>\n",
       "      <td>25</td>\n",
       "    </tr>\n",
       "    <tr>\n",
       "      <th>1</th>\n",
       "      <td>Bob</td>\n",
       "      <td>30</td>\n",
       "    </tr>\n",
       "    <tr>\n",
       "      <th>2</th>\n",
       "      <td>Charlie</td>\n",
       "      <td>35</td>\n",
       "    </tr>\n",
       "  </tbody>\n",
       "</table>\n",
       "</div>"
      ],
      "text/plain": [
       "      Name  Age\n",
       "0    Alice   25\n",
       "1      Bob   30\n",
       "2  Charlie   35"
      ]
     },
     "execution_count": 15,
     "metadata": {},
     "output_type": "execute_result"
    }
   ],
   "source": [
    "import pandas as pd\n",
    "\n",
    "# Example 3: pandas DataFrame\n",
    "data = {'Name': ['Alice', 'Bob', 'Charlie'], 'Age': [25, 30, 35]}\n",
    "df = pd.DataFrame(data)\n",
    "\n",
    "# Show df\n",
    "df"
   ]
  },
  {
   "cell_type": "code",
   "execution_count": 16,
   "metadata": {},
   "outputs": [
    {
     "data": {
      "text/plain": [
       "{'_is_copy': None,\n",
       " '_mgr': BlockManager\n",
       " Items: Index(['Name', 'Age'], dtype='object')\n",
       " Axis 1: RangeIndex(start=0, stop=3, step=1)\n",
       " NumpyBlock: slice(0, 1, 1), 1 x 3, dtype: object\n",
       " NumpyBlock: slice(1, 2, 1), 1 x 3, dtype: int64,\n",
       " '_item_cache': {},\n",
       " '_attrs': {},\n",
       " '_flags': <Flags(allows_duplicate_labels=True)>}"
      ]
     },
     "execution_count": 16,
     "metadata": {},
     "output_type": "execute_result"
    }
   ],
   "source": [
    "# Show attributes inside of df. Most classes which store data has a __dict__ method which stores its own properties\n",
    "df.__dict__"
   ]
  },
  {
   "cell_type": "code",
   "execution_count": 20,
   "metadata": {},
   "outputs": [
    {
     "data": {
      "text/plain": [
       "BlockManager\n",
       "Items: Index(['Name', 'Age'], dtype='object')\n",
       "Axis 1: RangeIndex(start=0, stop=3, step=1)\n",
       "NumpyBlock: slice(0, 1, 1), 1 x 3, dtype: object\n",
       "NumpyBlock: slice(1, 2, 1), 1 x 3, dtype: int64"
      ]
     },
     "execution_count": 20,
     "metadata": {},
     "output_type": "execute_result"
    }
   ],
   "source": [
    "# How the data is actually represented internally in a dataframe\n",
    "df.__dict__.get('_mgr')"
   ]
  },
  {
   "cell_type": "code",
   "execution_count": 18,
   "metadata": {},
   "outputs": [
    {
     "data": {
      "text/plain": [
       "['Age',\n",
       " 'Name',\n",
       " 'T',\n",
       " 'abs',\n",
       " 'add',\n",
       " 'add_prefix',\n",
       " 'add_suffix',\n",
       " 'agg',\n",
       " 'aggregate',\n",
       " 'align',\n",
       " 'all',\n",
       " 'any',\n",
       " 'apply',\n",
       " 'applymap',\n",
       " 'asfreq',\n",
       " 'asof',\n",
       " 'assign',\n",
       " 'astype',\n",
       " 'at',\n",
       " 'at_time',\n",
       " 'attrs',\n",
       " 'axes',\n",
       " 'backfill',\n",
       " 'between_time',\n",
       " 'bfill',\n",
       " 'bool',\n",
       " 'boxplot',\n",
       " 'clip',\n",
       " 'columns',\n",
       " 'combine',\n",
       " 'combine_first',\n",
       " 'compare',\n",
       " 'convert_dtypes',\n",
       " 'copy',\n",
       " 'corr',\n",
       " 'corrwith',\n",
       " 'count',\n",
       " 'cov',\n",
       " 'cummax',\n",
       " 'cummin',\n",
       " 'cumprod',\n",
       " 'cumsum',\n",
       " 'describe',\n",
       " 'diff',\n",
       " 'div',\n",
       " 'divide',\n",
       " 'dot',\n",
       " 'drop',\n",
       " 'drop_duplicates',\n",
       " 'droplevel',\n",
       " 'dropna',\n",
       " 'dtypes',\n",
       " 'duplicated',\n",
       " 'empty',\n",
       " 'eq',\n",
       " 'equals',\n",
       " 'eval',\n",
       " 'ewm',\n",
       " 'expanding',\n",
       " 'explode',\n",
       " 'ffill',\n",
       " 'fillna',\n",
       " 'filter',\n",
       " 'first',\n",
       " 'first_valid_index',\n",
       " 'flags',\n",
       " 'floordiv',\n",
       " 'from_dict',\n",
       " 'from_records',\n",
       " 'ge',\n",
       " 'get',\n",
       " 'groupby',\n",
       " 'gt',\n",
       " 'head',\n",
       " 'hist',\n",
       " 'iat',\n",
       " 'idxmax',\n",
       " 'idxmin',\n",
       " 'iloc',\n",
       " 'index',\n",
       " 'infer_objects',\n",
       " 'info',\n",
       " 'insert',\n",
       " 'interpolate',\n",
       " 'isetitem',\n",
       " 'isin',\n",
       " 'isna',\n",
       " 'isnull',\n",
       " 'items',\n",
       " 'iterrows',\n",
       " 'itertuples',\n",
       " 'join',\n",
       " 'keys',\n",
       " 'kurt',\n",
       " 'kurtosis',\n",
       " 'last',\n",
       " 'last_valid_index',\n",
       " 'le',\n",
       " 'loc',\n",
       " 'lt',\n",
       " 'map',\n",
       " 'mask',\n",
       " 'max',\n",
       " 'mean',\n",
       " 'median',\n",
       " 'melt',\n",
       " 'memory_usage',\n",
       " 'merge',\n",
       " 'min',\n",
       " 'mod',\n",
       " 'mode',\n",
       " 'mul',\n",
       " 'multiply',\n",
       " 'ndim',\n",
       " 'ne',\n",
       " 'nlargest',\n",
       " 'notna',\n",
       " 'notnull',\n",
       " 'nsmallest',\n",
       " 'nunique',\n",
       " 'pad',\n",
       " 'pct_change',\n",
       " 'pipe',\n",
       " 'pivot',\n",
       " 'pivot_table',\n",
       " 'plot',\n",
       " 'pop',\n",
       " 'pow',\n",
       " 'prod',\n",
       " 'product',\n",
       " 'quantile',\n",
       " 'query',\n",
       " 'radd',\n",
       " 'rank',\n",
       " 'rdiv',\n",
       " 'reindex',\n",
       " 'reindex_like',\n",
       " 'rename',\n",
       " 'rename_axis',\n",
       " 'reorder_levels',\n",
       " 'replace',\n",
       " 'resample',\n",
       " 'reset_index',\n",
       " 'rfloordiv',\n",
       " 'rmod',\n",
       " 'rmul',\n",
       " 'rolling',\n",
       " 'round',\n",
       " 'rpow',\n",
       " 'rsub',\n",
       " 'rtruediv',\n",
       " 'sample',\n",
       " 'select_dtypes',\n",
       " 'sem',\n",
       " 'set_axis',\n",
       " 'set_flags',\n",
       " 'set_index',\n",
       " 'shape',\n",
       " 'shift',\n",
       " 'size',\n",
       " 'skew',\n",
       " 'sort_index',\n",
       " 'sort_values',\n",
       " 'squeeze',\n",
       " 'stack',\n",
       " 'std',\n",
       " 'style',\n",
       " 'sub',\n",
       " 'subtract',\n",
       " 'sum',\n",
       " 'swapaxes',\n",
       " 'swaplevel',\n",
       " 'tail',\n",
       " 'take',\n",
       " 'to_clipboard',\n",
       " 'to_csv',\n",
       " 'to_dict',\n",
       " 'to_excel',\n",
       " 'to_feather',\n",
       " 'to_gbq',\n",
       " 'to_hdf',\n",
       " 'to_html',\n",
       " 'to_json',\n",
       " 'to_latex',\n",
       " 'to_markdown',\n",
       " 'to_numpy',\n",
       " 'to_orc',\n",
       " 'to_parquet',\n",
       " 'to_period',\n",
       " 'to_pickle',\n",
       " 'to_records',\n",
       " 'to_sql',\n",
       " 'to_stata',\n",
       " 'to_string',\n",
       " 'to_timestamp',\n",
       " 'to_xarray',\n",
       " 'to_xml',\n",
       " 'transform',\n",
       " 'transpose',\n",
       " 'truediv',\n",
       " 'truncate',\n",
       " 'tz_convert',\n",
       " 'tz_localize',\n",
       " 'unstack',\n",
       " 'update',\n",
       " 'value_counts',\n",
       " 'values',\n",
       " 'var',\n",
       " 'where',\n",
       " 'xs']"
      ]
     },
     "execution_count": 18,
     "metadata": {},
     "output_type": "execute_result"
    }
   ],
   "source": [
    "# Show all the methods inside the dataframe\n",
    "[method for method in dir(df) if not method.startswith('_')]"
   ]
  }
 ],
 "metadata": {
  "kernelspec": {
   "display_name": "Python 3 (ipykernel)",
   "language": "python",
   "name": "python3"
  },
  "language_info": {
   "codemirror_mode": {
    "name": "ipython",
    "version": 3
   },
   "file_extension": ".py",
   "mimetype": "text/x-python",
   "name": "python",
   "nbconvert_exporter": "python",
   "pygments_lexer": "ipython3",
   "version": "3.10.9"
  }
 },
 "nbformat": 4,
 "nbformat_minor": 4
}
