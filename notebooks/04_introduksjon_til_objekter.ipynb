{
 "cells": [
  {
   "cell_type": "markdown",
   "metadata": {},
   "source": [
    "# 04: Introduksjon til objekter i Python\n",
    "\n",
    "**Forfatter:** Benedikt Goodman \\\n",
    "**Medhjelpere:** Mistral Large, ChatGPT-4\n",
    "\n",
    "Som vi snakket om i leksjon 1 så er alt i Python et objekt. Nå skal vi lære om hvordan vi kan lage objekter, når det kanskje er en god ide så skal vi sveipe innom en del andre nøkkelkonsepter innen objektorientert programmering. Som vanlig har jeg skrevet dette på engelsk med hjelp av både Mistral Large og ChatGPT-4.\n",
    "\n",
    "## Outline\n",
    "1. A short note on object oriented programming (OOP)\n",
    "2. The TLDR on how OOP works\n",
    "3. Defining a class\n",
    "4. Class attributes and methods\n",
    "    1. Making an object from a class blueprint\n",
    "    2. What's the difference between a class variable and an instance variable?\n",
    "    3. The different methods available to a class\n",
    "    4. Classmethods\n",
    "    5. Staticmethods\n",
    "5. The `.self` parameter\n",
    "6. Inheritance and Polymorphism\n",
    "7. A word of caution\n",
    "8. Why use composition?\n",
    "9. A real-world example of OOP\n",
    "10. Exercises\n",
    "\n",
    "\n",
    "## A short note on object oriented programming\n",
    "\n",
    "Object-Oriented Programming (OOP) is a programming paradigm that uses `objects` and their interactions to design applications and computer programs. The prime benefits of OOP are code reusability, modularity and overall tidyness (if done correctly). The primary drawbacks is that it can allow us programmers to overengineer programs and make them tightly coupled, so they become impossible to make changes to. \n",
    "\n",
    "## The TLDR about how OOP works\n",
    "\n",
    "In Python, a `class` is a *blueprint* for creating `objects`. An `object` is an `instance` of a `class`. `attributes` are the `properties` of the object, these store the different types of `data` attached to the object object. `methods` (functions) are the actions that the object can perform.\n",
    "\n",
    "Here is a list of definitions you can return back to:\n",
    "- `class`: Bluebrint for creating an object\n",
    "- `object`: A created instance of a class\n",
    "- `attribute/property`: Data related to the class stored inside it\n",
    "- `method`: A function tied to a class\n",
    "\n",
    "## Defining a Class\n",
    "\n",
    "A class is defined using the class keyword. Here's an example of a simple class:"
   ]
  },
  {
   "cell_type": "code",
   "execution_count": null,
   "metadata": {},
   "outputs": [],
   "source": [
    "class SomeClass:\n",
    "    pass"
   ]
  },
  {
   "cell_type": "markdown",
   "metadata": {},
   "source": [
    "## Class Attributes and Methods\n",
    "\n",
    "Attributes are variables that belong to a class or an instance of a class. Methods are functions that belong to a class. As with anything in Python, variables inside a class can be anything."
   ]
  },
  {
   "cell_type": "code",
   "execution_count": null,
   "metadata": {},
   "outputs": [],
   "source": [
    "# This is our blueprint\n",
    "class MyClass:\n",
    "    # Class attribute, handy when you want to share a given variable across all instances of a class\n",
    "    class_attribute = \"I'm a class attribute\"\n",
    "\n",
    "    def __init__(self, instance_var_1, instance_var_2):\n",
    "        # Instance attribute\n",
    "        self.instance_var_1 = instance_var_1\n",
    "        self.instance_var_2 = instance_var_2\n",
    "\n",
    "    # Class method collects class variables and makes them accessable in a class instance\n",
    "    @classmethod\n",
    "    def class_method(cls):\n",
    "        return f\"I'm a class method. {cls.class_attribute}\"\n",
    "\n",
    "    # Instance method\n",
    "    def instance_method(self):\n",
    "        return f\"I'm an instance method. {self.instance_var_1} rules\"\n",
    "\n",
    "    # Instance method with external arguments\n",
    "    def can_take_external_arguments(self, arg1, kwarg1=None):\n",
    "        output = [\n",
    "            f\"I'm also an instance method. I have access to {self.instance_var_1}\",\n",
    "            f\"and {self.instance_var_2}. External vars arg1: {arg1}, kwarg1: {kwarg1}\",\n",
    "        ]\n",
    "        return \" \".join(output)\n",
    "\n",
    "    def can_trigger_other_instance_methods(self, arg, kwarg=None):\n",
    "        print(self.instance_method())\n",
    "        print(self.can_take_external_arguments(arg, kwarg))\n",
    "    \n",
    "    # staticmethods do not require the object to be initialised to be called\n",
    "    @staticmethod\n",
    "    def static_method(arg, kwarg):\n",
    "        print(\n",
    "            \"I dont need an instance of the class to be created.\",\n",
    "            f\"{arg} is overrated, I always preferred {kwarg}\"\n",
    "            )\n",
    "        \n"
   ]
  },
  {
   "cell_type": "markdown",
   "metadata": {},
   "source": [
    "### Making an object from a class blueprint"
   ]
  },
  {
   "cell_type": "code",
   "execution_count": null,
   "metadata": {},
   "outputs": [],
   "source": [
    "import pandas as pd\n",
    "\n",
    "# Making an object out of the blueprint\n",
    "obj = MyClass('Snoop Dogg', 'Dr. Dre')\n",
    "\n",
    "# Doesnt this look eerily similar to something you should be familiar with by this point?\n",
    "df = pd.DataFrame({'a': [1,2,3],'b': [4,5,6]})"
   ]
  },
  {
   "cell_type": "code",
   "execution_count": null,
   "metadata": {},
   "outputs": [],
   "source": [
    "# Calls on variable (property) stored inside the created object, these are what we call instance attributes/properties ...or just an instance variable\n",
    "obj.instance_var_1"
   ]
  },
  {
   "cell_type": "code",
   "execution_count": null,
   "metadata": {},
   "outputs": [],
   "source": [
    "# Fetches the class attribute\n",
    "obj.class_attribute"
   ]
  },
  {
   "cell_type": "markdown",
   "metadata": {},
   "source": [
    "### Whats the difference between a class variable and an instance variable?\n",
    "\n",
    "In Python, both class variables and instance variables are used to store data within a class, but they behave differently.\n",
    "\n",
    "A `class variable` is a variable that is shared by all instances of a class. It is defined directly within the class, outside of any methods. Changes made to a class variable will be reflected in all instances of the class.\n",
    "\n",
    "An `instance variable`, on the other hand, is a variable that is unique to each instance of a class. It is defined within a method and is usually initialized in the __init__ method. Changes made to an instance variable will only affect the specific instance and not other instances."
   ]
  },
  {
   "cell_type": "code",
   "execution_count": null,
   "metadata": {},
   "outputs": [],
   "source": [
    "# Let's make a new object\n",
    "other_obj = MyClass(\"Cookie Monster\", \" Hermit the Frog\")\n",
    "\n",
    "# It's got the same class attribute as the first object\n",
    "print(other_obj.class_attribute)\n",
    "\n",
    "# But these are not connected across classes unless you change them in the blueprint\n",
    "other_obj.class_attribute = [\"New\", \"class\", \"attribute\"]\n",
    "\n",
    "print(\n",
    "    \"obj class attribute:\",\n",
    "    obj.class_attribute,\n",
    "    \"\\nother_obj class attribute\",\n",
    "    other_obj.class_attribute,\n",
    ")\n"
   ]
  },
  {
   "cell_type": "code",
   "execution_count": null,
   "metadata": {
    "tags": []
   },
   "outputs": [],
   "source": [
    "print(\n",
    "    \"obj instance_var1:\",\n",
    "    obj.instance_var_1,\n",
    "    \"\\nother_obj instance_var1:\",\n",
    "    other_obj.instance_var_1,\n",
    ")"
   ]
  },
  {
   "cell_type": "markdown",
   "metadata": {},
   "source": [
    "### The different methods available to a class"
   ]
  },
  {
   "cell_type": "code",
   "execution_count": null,
   "metadata": {},
   "outputs": [],
   "source": [
    "# This is the instance method. It is bound to an object and has access to an object's instance variables (aka the self. variables)\n",
    "obj.instance_method()"
   ]
  },
  {
   "cell_type": "code",
   "execution_count": null,
   "metadata": {
    "tags": []
   },
   "outputs": [],
   "source": [
    "other_obj.instance_method()"
   ]
  },
  {
   "cell_type": "markdown",
   "metadata": {},
   "source": [
    "### Classmethods\n",
    "The classmethod can access class variables. These stay the same across all instances of a class"
   ]
  },
  {
   "cell_type": "code",
   "execution_count": null,
   "metadata": {},
   "outputs": [],
   "source": [
    "obj.class_method()"
   ]
  },
  {
   "cell_type": "code",
   "execution_count": null,
   "metadata": {
    "tags": []
   },
   "outputs": [],
   "source": [
    "other_obj.class_method()"
   ]
  },
  {
   "cell_type": "markdown",
   "metadata": {},
   "source": [
    "### Staticmethods\n",
    "\n",
    "Staticmethods are somewhat special in that they dont need an object to be initalised in order to work.\n",
    "I like to use this when I create classes which have methods used by another class. This is known as the \"utility class\" design pattern ...more on that later"
   ]
  },
  {
   "cell_type": "code",
   "execution_count": null,
   "metadata": {},
   "outputs": [],
   "source": [
    "# Notice lack of () behind MyClass\n",
    "MyClass.static_method('Britney Spears', kwarg=['Jenifer Lopez'])"
   ]
  },
  {
   "cell_type": "markdown",
   "metadata": {},
   "source": [
    "In Python, a `staticmethod` is a method that belongs to a class rather than an instance of a class. It can be called without creating an instance of the class, and it doesn't have access to the class's instance variables or methods.\n",
    "\n",
    "There are several reasons why you might want to use a `staticmethod`:\n",
    "\n",
    "1. **Utility Functions**: If you have a function that's related to the class but doesn't need access to the class's instance variables or methods, you can make it a static method. This is often used for utility functions that perform a specific task but don't need to interact with the class's data. I normally group related utility functions together. That way others can tellll which functions belong together more easily. For example, let's say you have 5 functions that all do operations on dictionaries, Why not group these together and then call the class DictUtilies? \n",
    "\n",
    "2. **Code Organization**: Static methods can help organize your code by grouping related functions within a class, even if those functions don't need access to the class's data. This can make your code easier to read and understand.\n",
    "\n",
    "3. **Improved Performance**: Because static methods don't have access to the class's instance variables or methods, they can be slightly faster to call than regular instance methods. This is because Python doesn't need to pass the instance of the class (self) to the method.\n"
   ]
  },
  {
   "cell_type": "markdown",
   "metadata": {},
   "source": [
    "## The self Parameter\n",
    "\n",
    "The self parameter is a reference to the current instance of the class and is used to access variables and methods from the class. "
   ]
  },
  {
   "cell_type": "code",
   "execution_count": null,
   "metadata": {
    "tags": []
   },
   "outputs": [],
   "source": [
    "class Person:\n",
    "    def __init__(self, name):\n",
    "        self.name = name\n",
    "\n",
    "    def greet(self):\n",
    "        print(f\"Hello, I'm {self.name}!\")\n",
    "    \n",
    "    def handshake(self):\n",
    "        print(f'{self.name} shakes your hand.')\n",
    "    \n",
    "    # What do you think will happen here?\n",
    "    def greet_and_shake_hand_error():\n",
    "        self.greet()\n",
    "        self.handshake()\n",
    "        \n",
    "    def greet_and_shake_hand(self):\n",
    "        self.greet()\n",
    "        self.handshake()    "
   ]
  },
  {
   "cell_type": "code",
   "execution_count": null,
   "metadata": {
    "tags": []
   },
   "outputs": [],
   "source": [
    "person = Person('Vincent Adultman')\n",
    "\n",
    "person.greet()\n",
    "person.handshake()"
   ]
  },
  {
   "cell_type": "code",
   "execution_count": null,
   "metadata": {
    "tags": []
   },
   "outputs": [],
   "source": [
    "person.greet_and_shake_hand_error()"
   ]
  },
  {
   "cell_type": "code",
   "execution_count": null,
   "metadata": {
    "tags": []
   },
   "outputs": [],
   "source": [
    "person.greet_and_shake_hand()"
   ]
  },
  {
   "cell_type": "markdown",
   "metadata": {},
   "source": [
    "## Inheritance and Polymorphism\n",
    "\n",
    "Inheritance is a way to form new classes using classes that have already been defined. The new classes, known as derived classes, inherit attributes and behavior from the pre-existing classes, which are referred to as base classes. This is both a very powerful feature, and the source of why objects can sometimes be a pain in the butt to debug.\n",
    "\n",
    "The fact that objects can inherit from each other mean that take on many forms and variations if you want them to. This concept is known as `polymorphism`. The most common use of polymorphism in OOP occurs when a parent class reference is used to refer to a child class object.\n",
    "\n",
    "Here is what it looks like in practice"
   ]
  },
  {
   "cell_type": "code",
   "execution_count": null,
   "metadata": {},
   "outputs": [],
   "source": [
    "class SsbEmployee(Person):\n",
    "    def __init__(self, name, division):\n",
    "        super().__init__(name)\n",
    "        self.division = division\n",
    "        self.coffee_consumption = 0  # tracks cups of coffee consumed\n",
    "\n",
    "    def report_stats(self):\n",
    "        print(f\"{self.name} reports: 'Did you know 87.3% of statistics are made up on the spot?'\")\n",
    "\n",
    "    def drink_coffee(self):\n",
    "        # Increase the coffee consumption count\n",
    "        self.coffee_consumption += 1\n",
    "        print(f\"{self.name} drinks their {self.coffee_consumption} cup of coffee. Ah, the fuel of statistics!\")\n",
    "\n",
    "    def attend_meeting(self, topic):\n",
    "        # Simulates attending a meeting\n",
    "        print(f\"{self.name} is attending a meeting about {topic}. They are definitely not sleeping with their eyes open.\")\n",
    "\n",
    "    def refactor_code(self):\n",
    "        # Simulates a Python code refactoring session\n",
    "        print(f\"{self.name} is refactoring code... Found a way to replace a perfectly working 50-line function with a 120-line hardcoded mess. Satisfying :)\")"
   ]
  },
  {
   "cell_type": "code",
   "execution_count": null,
   "metadata": {},
   "outputs": [],
   "source": [
    "# Lets make an object\n",
    "benny = SsbEmployee('Benedikt', 'National Accounts')\n",
    "\n",
    "# Benny has access to the methods of class Person\n",
    "benny.greet_and_shake_hand()\n"
   ]
  },
  {
   "cell_type": "code",
   "execution_count": null,
   "metadata": {},
   "outputs": [],
   "source": [
    "# But he also has access to the new methods and attributes the SsbEmployee object\n",
    "benny.attend_meeting('GNI-inventories')"
   ]
  },
  {
   "cell_type": "code",
   "execution_count": null,
   "metadata": {},
   "outputs": [],
   "source": [
    "benny.refactor_code()"
   ]
  },
  {
   "cell_type": "markdown",
   "metadata": {},
   "source": [
    "## A word of caution about using inheritance too much\n",
    "\n",
    "Inheritance is a fundamental concept in object-oriented programming where a class can inherit properties and behaviors (methods) from another class. This helps in creating a new class with modified or additional features without rewriting the code from the first class. Though useful, over-using inheritance can lead to several issues:\n",
    "\n",
    "1. **Tight Coupling**: When classes are tightly coupled, they depend heavily on each other's functionality. Changes in the parent class can inadvertently affect all child classes, which might lead to bugs that are hard to trace.\n",
    "\n",
    "2. **Fragile Base Class Problem**: If a base (parent) class is changed, all derived (child) classes may need to be modified. This can make the code fragile and unstable, as changes in the base class can propagate bugs to various parts of an application that seemed unrelated.\n",
    "\n",
    "3. **Complexity and Readability**: Excessive use of inheritance can make the code more complex and harder to read. New developers, or even the original developers coming back to the code after some time, may find it difficult to follow the hierarchy and relationships between classes.\n",
    "\n",
    "4. **Inappropriate Abstractions**: Sometimes, inheritance is used to share code between classes, not because they conceptually share a parent-child relationship, but just because they share some functionalities. This misuse can lead to inappropriate designs and confusing abstractions.\n",
    "\n",
    "## Why using composition is much better\n",
    "\n",
    "Composition is an alternative to inheritance. This principle allows creating classes that contain objects of other classes, representing a \"has-a\" relationship rather than an \"is-a\" relationship as in inheritance. This method is often more flexible as it allows changing the composed objects in a script instead and reduces the links between components. This reduces the chance for bugs spreading as methods and attributes arent shared as directly compared to when using inheritance."
   ]
  },
  {
   "cell_type": "code",
   "execution_count": null,
   "metadata": {},
   "outputs": [],
   "source": [
    "class Weapon:\n",
    "    def use(self):\n",
    "        print(\"Using weapon\")\n",
    "\n",
    "\n",
    "class Sword(Weapon):\n",
    "    def use(self):\n",
    "        print(\"Swinging a sword\")\n",
    "\n",
    "\n",
    "class Bow(Weapon):\n",
    "    def use(self):\n",
    "        print(\"Shooting an arrow\")\n",
    "\n",
    "\n",
    "class Character:\n",
    "    def __init__(self, weapon):\n",
    "        self.weapon = weapon\n",
    "\n",
    "    def attack(self):\n",
    "        self.weapon.use()\n",
    "\n",
    "\n",
    "# Usage, note how it's functionally almost the same as using inheritace, but our code is now a lot less coupled\n",
    "archer = Character(Bow())  # Archer with a bow\n",
    "knight = Character(Sword())  # Knight with a sword\n",
    "\n",
    "archer.attack()  # Outputs: Shooting an arrow\n",
    "knight.attack()  # Outputs: Swinging a sword\n"
   ]
  },
  {
   "cell_type": "markdown",
   "metadata": {},
   "source": [
    "## A real-world example\n",
    "\n",
    "I've previously said that making a utility class and then have an implementing class could be a great way of grouping similar functions together. Here is an example which resembles some of the code that's written for our common functions and objects in our division so far. The pattern we use here is that we first define a so-called \"utility class\" which has a set of staticmethods which are then implemented by another object which needs to apply these in a specific sequence."
   ]
  },
  {
   "cell_type": "code",
   "execution_count": null,
   "metadata": {},
   "outputs": [],
   "source": [
    "import pandas as pd\n",
    "\n",
    "\n",
    "class DataFrameManager:\n",
    "    @staticmethod\n",
    "    def top_items_by_column(\n",
    "        dataframe: pd.DataFrame, column_to_sum: str, top_n: int = 5\n",
    "    ) -> pd.DataFrame:\n",
    "        \"\"\"\n",
    "        Return the top items based on a sum of a specified column.\n",
    "\n",
    "        Parameters\n",
    "        ----------\n",
    "        dataframe : pd.DataFrame\n",
    "            The input DataFrame.\n",
    "        column_to_sum : str\n",
    "            The column to sum.\n",
    "        top_n : int, optional\n",
    "            The number of top items to return, by default 5.\n",
    "\n",
    "        Returns\n",
    "        -------\n",
    "        pd.DataFrame\n",
    "            The DataFrame with the top items.\n",
    "\n",
    "        Raises\n",
    "        ------\n",
    "        ValueError\n",
    "            If the specified column does not exist in the DataFrame.\n",
    "        \"\"\"\n",
    "        if column_to_sum in dataframe.columns:\n",
    "            result = (\n",
    "                dataframe.groupby(column_to_sum).sum().nlargest(top_n, column_to_sum)\n",
    "            )\n",
    "            return result\n",
    "        else:\n",
    "            raise ValueError(f\"Column {column_to_sum} does not exist in the DataFrame\")\n",
    "\n",
    "    @staticmethod\n",
    "    def aggregate_by_column(\n",
    "        dataframe: pd.DataFrame, group_by_column: str, agg_column: str, agg_func: str\n",
    "    ) -> pd.DataFrame:\n",
    "        \"\"\"\n",
    "        Aggregate data by a specified column using a specified aggregation function.\n",
    "\n",
    "        Parameters\n",
    "        ----------\n",
    "        dataframe : pd.DataFrame\n",
    "            The input DataFrame.\n",
    "        group_by_column : str\n",
    "            The column to group by.\n",
    "        agg_column : str\n",
    "            The column to aggregate.\n",
    "        agg_func : str\n",
    "            The aggregation function to use.\n",
    "\n",
    "        Returns\n",
    "        -------\n",
    "        pd.DataFrame\n",
    "            The DataFrame with the aggregated data.\n",
    "\n",
    "        Raises\n",
    "        ------\n",
    "        ValueError\n",
    "            If one or more columns specified do not exist in the DataFrame.\n",
    "        \"\"\"\n",
    "        if group_by_column in dataframe.columns and agg_column in dataframe.columns:\n",
    "            return dataframe.groupby(group_by_column)[agg_column].agg(agg_func)\n",
    "        else:\n",
    "            raise ValueError(\n",
    "                \"One or more columns specified do not exist in the DataFrame\"\n",
    "            )\n",
    "\n",
    "    @staticmethod\n",
    "    def resample_data(\n",
    "        dataframe: pd.DataFrame, date_column: str, freq: str, agg_dict: dict\n",
    "    ) -> pd.DataFrame:\n",
    "        \"\"\"\n",
    "        Resample data based on a date column and a frequency, applying specified aggregation functions.\n",
    "\n",
    "        Parameters\n",
    "        ----------\n",
    "        dataframe : pd.DataFrame\n",
    "            The input DataFrame.\n",
    "        date_column : str\n",
    "            The date column.\n",
    "        freq : str\n",
    "            The resampling frequency.\n",
    "        agg_dict : dict\n",
    "            The dictionary of aggregation functions to apply.\n",
    "\n",
    "        Returns\n",
    "        -------\n",
    "        pd.DataFrame\n",
    "            The resampled DataFrame.\n",
    "\n",
    "        Raises\n",
    "        ------\n",
    "        ValueError\n",
    "            If the date column does not exist in the DataFrame.\n",
    "        \"\"\"\n",
    "        if date_column in dataframe.columns:\n",
    "            dataframe[date_column] = pd.to_datetime(dataframe[date_column])\n",
    "            dataframe.set_index(date_column, inplace=True)\n",
    "            resampled_data = dataframe.resample(freq).agg(agg_dict)\n",
    "            return resampled_data\n",
    "        else:\n",
    "            raise ValueError(\n",
    "                f\"Date column {date_column} does not exist in the DataFrame\"\n",
    "            )\n",
    "\n",
    "    @staticmethod\n",
    "    def add_data(dataframe: pd.DataFrame, new_data: pd.DataFrame) -> pd.DataFrame:\n",
    "        \"\"\"\n",
    "        Append new data to a DataFrame and reset index.\n",
    "\n",
    "        Parameters\n",
    "        ----------\n",
    "        dataframe : pd.DataFrame\n",
    "            The input DataFrame.\n",
    "        new_data : pd.DataFrame\n",
    "            The new data to add.\n",
    "\n",
    "        Returns\n",
    "        -------\n",
    "        pd.DataFrame\n",
    "            The updated DataFrame.\n",
    "        \"\"\"\n",
    "        new_df = pd.DataFrame(new_data)\n",
    "        return pd.concat([dataframe, new_df], ignore_index=True)\n"
   ]
  },
  {
   "cell_type": "markdown",
   "metadata": {},
   "source": [
    "Let's implement the staticmethods from the class above in another class where methods are chained together in specific ways"
   ]
  },
  {
   "cell_type": "code",
   "execution_count": null,
   "metadata": {},
   "outputs": [],
   "source": [
    "\n",
    "\n",
    "\n",
    "class DataManager:\n",
    "    def __init__(self, df: pd.DataFrame, df_manager: DataFrameManager):\n",
    "        \"\"\"\n",
    "        Initialize the DataManager.\n",
    "\n",
    "        Parameters\n",
    "        ----------\n",
    "        df : pd.DataFrame\n",
    "            The input DataFrame.\n",
    "        df_manager : DataFrameManager\n",
    "            The DataFrameManager instance.\n",
    "        \"\"\"\n",
    "        self.data = df\n",
    "        self.df_manager = df_manager\n",
    "\n",
    "    def get_top_items_and_aggregate(\n",
    "        self,\n",
    "        column_to_sum: str,\n",
    "        group_by_column: str,\n",
    "        agg_column: str,\n",
    "        agg_func: str,\n",
    "        top_n: int = 5,\n",
    "    ) -> pd.DataFrame:\n",
    "        \"\"\"\n",
    "        Combine top_items_by_column and aggregate_by_column methods.\n",
    "\n",
    "        Parameters\n",
    "        ----------\n",
    "        column_to_sum : str\n",
    "            The column to sum.\n",
    "        group_by_column : str\n",
    "            The column to group by.\n",
    "        agg_column : str\n",
    "            The column to aggregate.\n",
    "        agg_func : str\n",
    "            The aggregation function to use.\n",
    "        top_n : int, optional\n",
    "            The number of top items to return, by default 5.\n",
    "\n",
    "        Returns\n",
    "        -------\n",
    "        pd.DataFrame\n",
    "            The DataFrame with the aggregated top items.\n",
    "        \"\"\"\n",
    "        top_items = self.df_manager.top_items_by_column(self.data, column_to_sum, top_n)\n",
    "        aggregated_result = self.df_manager.aggregate_by_column(\n",
    "            top_items, group_by_column, agg_column, agg_func\n",
    "        )\n",
    "        return aggregated_result\n",
    "\n",
    "    def resample_and_update_data(\n",
    "        self, date_column: str, freq: str, agg_dict: dict, new_data: pd.DataFrame\n",
    "    ) -> pd.DataFrame:\n",
    "        \"\"\"\n",
    "        Combine resample_data and add_data methods.\n",
    "\n",
    "        Parameters\n",
    "        ----------\n",
    "        date_column : str\n",
    "            The date column.\n",
    "        freq : str\n",
    "            The resampling frequency.\n",
    "        agg_dict : dict\n",
    "            The dictionary of aggregation functions to apply.\n",
    "        new_data : pd.DataFrame\n",
    "            The new data to add.\n",
    "\n",
    "        Returns\n",
    "        -------\n",
    "        pd.DataFrame\n",
    "            The updated DataFrame.\n",
    "        \"\"\"\n",
    "        resampled_data = self.df_manager.resample_data(\n",
    "            self.data, date_column, freq, agg_dict\n",
    "        )\n",
    "        updated_data = self.df_manager.add_data(resampled_data, new_data)\n",
    "        self.data = updated_data  # Update the internal DataFrame\n",
    "        return updated_data\n"
   ]
  },
  {
   "cell_type": "markdown",
   "metadata": {},
   "source": [
    "### An explanation to what the code above does\n",
    "\n",
    "**DataFrameManager Class**\n",
    "\n",
    "This class contains several static methods that perform various operations on pandas DataFrames. These methods are utility functions that do not depend on the state of any instance of the class (self is not used). Each method takes a DataFrame as an input, performs operations on it, and returns a result:\n",
    "\n",
    "- **top_items_by_column**:\n",
    "    - **Purpose**: Finds the top n items from a DataFrame based on the sum of a specified column.\n",
    "    - **How it works**: It groups the DataFrame by a specified column, sums the values, and then selects the top n items based on these sums. If the specified column doesn't exist, it raises a ValueError.\n",
    "\n",
    "- **aggregate_by_column**:\n",
    "    - **Purpose**: Aggregates data in the DataFrame based on a specified column using a given aggregation function (e.g., sum, mean).\n",
    "    - **How it works**: It groups the DataFrame by one column and then applies the aggregation function to another column. If any of the specified columns don't exist, it raises a ValueError.\n",
    "\n",
    "- **resample_data**:\n",
    "    - **Purpose**: Resamples time-series data in the DataFrame based on a date column to a specified frequency, applying given aggregation functions.\n",
    "    - **How it works**: It converts the specified column to a datetime type, sets it as the index, and then resamples the DataFrame to the given frequency applying the specified aggregations. If the date column is missing, it raises a ValueError.\n",
    "\n",
    "- **add_data**:\n",
    "    - **Purpose**: Adds new data to an existing DataFrame.\n",
    "    - **How it works**: It creates a new DataFrame from the given data and concatenates it with the existing DataFrame, resetting the index to maintain continuity.\n",
    "\n",
    "**DataManager Class**\n",
    "\n",
    "This class is designed to manage a DataFrame with more complex operations using methods from the DataFrameManager class:\n",
    "\n",
    "- **Constructor (__init__)**:\n",
    "    - **Purpose**: Initializes a DataManager instance with a pandas DataFrame and an instance of DataFrameManager.\n",
    "    - **How it works**: Stores the DataFrame and DataFrameManager instance as attributes.\n",
    "\n",
    "- **get_top_items_and_aggregate**:\n",
    "    - **Purpose**: Combines the functionalities of top_items_by_column and aggregate_by_column to first find top items based on the sum of one column and then aggregate another column among these top items.\n",
    "    - **How it works**: Calls top_items_by_column to get the top items and then aggregate_by_column to perform further aggregation on these top items.\n",
    "\n",
    "- **resample_and_update_data**:\n",
    "    - **Purpose**: Resamples the DataFrame to a specified frequency based on a date column and then updates the resampled DataFrame with new data.\n",
    "    - **How it works**: Calls resample_data to adjust the DataFrame's time frequency, and then add_data to merge new data into this resampled DataFrame. It updates the DataManager's stored DataFrame with this new data.\n",
    "\n",
    "**Interaction Between Classes**\n",
    "\n",
    "- DataManager uses an instance of DataFrameManager (self.df_manager) to access the static methods for data processing. This design illustrates a dependency injection pattern where DataManager depends on DataFrameManager for data manipulation tasks.\n",
    "- The methods of DataFrameManager are called statically but are accessed through the instance passed during initialization of DataManager. This approach provides flexibility in potentially using different configurations or subclasses of DataFrameManager.\n",
    "\n",
    "## Exercises\n",
    "\n",
    "Object oriented programming takes practice to master, so here are some exercises. Pick one of the exercises or all of them and try to solve them yourself (i.e. no usage of LLMs!)\n",
    "\n",
    "1. **Create a simple calculator**: Create a Calculator class with methods for addition, subtraction, multiplication, and division. The class should take two numbers as inputs and return the result of the selected operation.\n",
    "2. **Create a shape class hierarchy**: Create a base class Shape with methods for calculating area and perimeter. Then, create subclasses for specific shapes like Circle, Square, and Rectangle that inherit from the Shape class and implement their own area and perimeter calculations.\n",
    "3. **Create a simple bank account**: Create a BankAccount class with methods for depositing and withdrawing money, and for checking the account balance. The class should also have a method for displaying the transaction history.\n",
    "\n",
    "We'll go through the examples above in the next lecture."
   ]
  }
 ],
 "metadata": {
  "kernelspec": {
   "display_name": "nr_github_sandkasse",
   "language": "python",
   "name": "nr_github_sandkasse"
  },
  "language_info": {
   "codemirror_mode": {
    "name": "ipython",
    "version": 3
   },
   "file_extension": ".py",
   "mimetype": "text/x-python",
   "name": "python",
   "nbconvert_exporter": "python",
   "pygments_lexer": "ipython3",
   "version": "3.10.9"
  }
 },
 "nbformat": 4,
 "nbformat_minor": 4
}
