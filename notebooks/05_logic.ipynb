{
 "cells": [
  {
   "cell_type": "markdown",
   "metadata": {},
   "source": [
    "# 05: Logikk\n",
    "\n",
    "**Forfatter:** Benedikt Goodman \\\n",
    "**Medhjelpere:** Mistral Large, ChatGPT-4\n",
    "\n",
    "Vi har nå vært innom mange av konseptene som er nødvendige å forstå dersom man skal sette seg inn i hva som foregår i programmer som skrives i Python. Utover datatyper, funksjoner og klasser er logikk en svært viktig byggeklosse å skrive gode programmer.\n",
    "\n",
    "## Logic in Python\n",
    "\n",
    "### Boolean Values and Expressions\n",
    "\n",
    "In Python, a boolean value is either True or False. We can create boolean expressions using comparison operators and logical operators. One of the simplest ways is to use the comparison operators.\n",
    "\n",
    "Comparison operators allow us to compare two values and return a boolean value. The most common comparison operators are `==` (equal to), `!=` (not equal to), `>` (greater than), `<` (less than), `>=` (greater than or equal to), and `<=` (less than or equal to)."
   ]
  },
  {
   "cell_type": "code",
   "execution_count": 1,
   "metadata": {},
   "outputs": [
    {
     "name": "stdout",
     "output_type": "stream",
     "text": [
      "<class 'bool'>\n",
      "False\n",
      "True\n",
      "False\n",
      "False\n"
     ]
    }
   ],
   "source": [
    "# Creates a True boolean via larger than comparison\n",
    "print(type(2 > 1))\n",
    "\n",
    "# not equal to comparison\n",
    "print(2 != 2)\n",
    "\n",
    "#equal or larger than\n",
    "print(2 >= 2)\n",
    "\n",
    "# Equal or smaller than\n",
    "print(2 <= 1)\n",
    "\n",
    "# equal to comparison\n",
    "print(True == 'string')"
   ]
  },
  {
   "cell_type": "markdown",
   "metadata": {},
   "source": [
    "The `is` operator is used to check whether two variables refer to the same object in memory, rather than having the same value. This is in contrast to the `==` operator, which checks if the values of two variables are the same. Both will however yield a boolean value and can thus be used as logical operators."
   ]
  },
  {
   "cell_type": "code",
   "execution_count": 2,
   "metadata": {
    "tags": []
   },
   "outputs": [
    {
     "data": {
      "text/plain": [
       "True"
      ]
     },
     "execution_count": 2,
     "metadata": {},
     "output_type": "execute_result"
    }
   ],
   "source": [
    "x = True\n",
    "x is True"
   ]
  },
  {
   "cell_type": "code",
   "execution_count": 3,
   "metadata": {
    "tags": []
   },
   "outputs": [
    {
     "data": {
      "text/plain": [
       "False"
      ]
     },
     "execution_count": 3,
     "metadata": {},
     "output_type": "execute_result"
    }
   ],
   "source": [
    "x is False"
   ]
  },
  {
   "cell_type": "code",
   "execution_count": 4,
   "metadata": {
    "tags": []
   },
   "outputs": [
    {
     "name": "stdout",
     "output_type": "stream",
     "text": [
      "True\n",
      "False\n"
     ]
    }
   ],
   "source": [
    "a = [1, 2, 3]\n",
    "b = a\n",
    "c = [1, 2, 3]\n",
    "\n",
    "# True, because both a and b point to the same list\n",
    "print(a is b)\n",
    "\n",
    "# False, because c is a different list object, despite having the same content\n",
    "print(a is c)"
   ]
  },
  {
   "cell_type": "code",
   "execution_count": 5,
   "metadata": {
    "tags": []
   },
   "outputs": [
    {
     "name": "stdout",
     "output_type": "stream",
     "text": [
      "True\n"
     ]
    }
   ],
   "source": [
    "# What will happen here?\n",
    "b = a.copy()\n",
    "\n",
    "print(b == a)"
   ]
  },
  {
   "cell_type": "markdown",
   "metadata": {},
   "source": [
    "To produce booleans we can make functions which do evaluations and logic and then return boolean values"
   ]
  },
  {
   "cell_type": "code",
   "execution_count": 6,
   "metadata": {},
   "outputs": [],
   "source": [
    "def is_even(n):\n",
    "    # Will evaluate to True if we use an even number \n",
    "    # all even numbers have a modulus of 2 equal to zero\n",
    "    if n % 2 == 0:\n",
    "        return True\n",
    "    else:\n",
    "        return False"
   ]
  },
  {
   "cell_type": "markdown",
   "metadata": {},
   "source": [
    "### Inbuilt functions which return booleans\n",
    "\n"
   ]
  },
  {
   "cell_type": "markdown",
   "metadata": {},
   "source": [
    "In Python, some built-in functions return boolean values, which can be used for logic and control flow in your code. One such function is `isinstance()`, which you will see used a lot for different types of validation.\n",
    "\n",
    "The `isinstance()` function takes two arguments: an `object` and a `class` or `tuple` of classes, and returns `True` if the `object` is an instance of the specified class(es), and `False` otherwise."
   ]
  },
  {
   "cell_type": "code",
   "execution_count": 7,
   "metadata": {},
   "outputs": [
    {
     "data": {
      "text/plain": [
       "True"
      ]
     },
     "execution_count": 7,
     "metadata": {},
     "output_type": "execute_result"
    }
   ],
   "source": [
    "isinstance('i am a string', str)"
   ]
  },
  {
   "cell_type": "markdown",
   "metadata": {},
   "source": [
    "Normally we use this kind of function as a guard-clause where we usually check if something is *not* the case. Why? Because it makes for code that is less convoluted has less indentations and will always have the so-called \"happy-path\" at the bottom. This makes for code that is easily readable."
   ]
  },
  {
   "cell_type": "code",
   "execution_count": 8,
   "metadata": {},
   "outputs": [],
   "source": [
    "# Good use of isinstance\n",
    "def square_number(x: int | float):\n",
    "    # We use isinstance as a \"type-guard\"\n",
    "    if not isinstance(x, (int, float)):\n",
    "        raise TypeError(\"x must be int or float\")\n",
    "\n",
    "    return x**x\n",
    "\n",
    "\n",
    "def square_number_bad(x: int | float):\n",
    "    # Isinstance is used to provide happy path\n",
    "    if isinstance(x, (int, float)):\n",
    "        return x**x\n",
    "    else:\n",
    "        raise TypeError(\"x must be int or float\")\n",
    "\n"
   ]
  },
  {
   "cell_type": "markdown",
   "metadata": {},
   "source": [
    "### Conditional statements\n",
    "\n",
    "Conditional statements allow us to execute different blocks of code depending on whether a boolean expression is `True` or `False`. This allows us to tell Python which codeblocks to run. The most common conditional statements are `if`, `if-else`, and `if-elif-else`."
   ]
  },
  {
   "cell_type": "code",
   "execution_count": 9,
   "metadata": {},
   "outputs": [],
   "source": [
    "def get_grade(score, other_value):\n",
    "    if score >= 90:\n",
    "        return \"A\"\n",
    "    elif score >= 80:\n",
    "        return \"B\"\n",
    "    elif score >= 70:\n",
    "        return \"C\"\n",
    "    elif score >= 60:\n",
    "        return \"D\"\n",
    "    else:\n",
    "        return \"F\""
   ]
  },
  {
   "cell_type": "markdown",
   "metadata": {},
   "source": [
    "One can also use `case` to achieve the same logic if using python 3.10 and above. I personally recommend using the if-elif-else patterns though.\n"
   ]
  },
  {
   "cell_type": "code",
   "execution_count": 10,
   "metadata": {},
   "outputs": [],
   "source": [
    "def get_grade_case(score):\n",
    "    match divmod(score, 10)[0]:\n",
    "        case 9 | 10:\n",
    "            return \"A\"\n",
    "        case 8:\n",
    "            return \"B\"\n",
    "        case 7:\n",
    "            return \"C\"\n",
    "        case 6:\n",
    "            return \"D\"\n",
    "        case _:\n",
    "            return \"F\""
   ]
  },
  {
   "cell_type": "markdown",
   "metadata": {},
   "source": [
    "## Logic in objects - with a brief note on properties\n",
    "\n",
    "If we add logic to our objects, we can quite quickly create complex and responsive behaviour. Lets first make some objects to play around with."
   ]
  },
  {
   "cell_type": "code",
   "execution_count": 11,
   "metadata": {
    "tags": []
   },
   "outputs": [
    {
     "data": {
      "text/plain": [
       "'chianti classico'"
      ]
     },
     "execution_count": 11,
     "metadata": {},
     "output_type": "execute_result"
    }
   ],
   "source": [
    "from pydantic import validate_call\n",
    "\n",
    "\n",
    "class Wine:\n",
    "    @validate_call\n",
    "    def __init__(self, winetype: str):\n",
    "        # By putting a _ at the start of a variable name we hide the variable from the linter -> it becomes a \"private variable\"\n",
    "        self._winetype = winetype\n",
    "    \n",
    "    # This is a getter-method, an attribute which only has a getter-method is considered \"read-only\"\n",
    "    @property\n",
    "    def winetype(self):\n",
    "        \"\"\"Returns lowercased version of whatever self._grape is\"\"\"\n",
    "        return self._winetype.lower()\n",
    "    \n",
    "    # This is a setter method, if an attribute has this it becomes re-assignable\n",
    "    @winetype.setter\n",
    "    @validate_call\n",
    "    def winetype(self, new_winetype: str):\n",
    "        self._winetype = new_winetype\n",
    "    \n",
    "# make the object\n",
    "chianti = Wine('Chianti Classico')\n",
    "\n",
    "# the property wrapper allows us to access a lowecased version self._grape by writing obj.grape\n",
    "chianti.winetype\n",
    "\n",
    "# It also prevents users from modifying the attribute after the object has been created\n",
    "# Make some wine objects\n",
    "# chianti = Wine('Chianti Classico')\n",
    "# shitty_chenin = Wine('Shitty Chenin Blanc')"
   ]
  },
  {
   "cell_type": "markdown",
   "metadata": {},
   "source": [
    "### A quick note on @property wrappers\n",
    "\n",
    "In Python, `@property` wrappers are used to control access to the `attributes` of a class, allowing you to define methods that are accessed like attributes. This is particularly useful for encapsulating behavior, validating data, or implementing computed properties without altering the external interface of your class. The property decorator provides a built-in way to achieve this by defining getter, setter, and deleter functions for a class attribute.\n",
    "Usage of Property Wrappers\n",
    "\n",
    "**Getter Method**: The getter method is used to access the value of a property. It is defined first and decorated with `@property`. This method returns the internal state of a private attribute.\n",
    "\n",
    "**Setter Method**: The setter method is used to set or update the value of a property. It is named the same as the getter method but is decorated with `@property_name.setter`, where property_name is the name of the property. This method often includes validation logic."
   ]
  },
  {
   "cell_type": "code",
   "execution_count": 12,
   "metadata": {
    "tags": []
   },
   "outputs": [],
   "source": [
    "# Will not work, unless we activate the setter method\n",
    "chianti.winetype = 'Cabernet Frank'"
   ]
  },
  {
   "cell_type": "markdown",
   "metadata": {},
   "source": [
    "Now lets make an object which uses the Wine class and applies logic that depends on the state of the wine-objects."
   ]
  },
  {
   "cell_type": "code",
   "execution_count": 13,
   "metadata": {
    "tags": []
   },
   "outputs": [],
   "source": [
    "class Benny:\n",
    "    \"\"\"A picky object which does not like undesirable traits in its received wines\"\"\"\n",
    "    def __init__(self, undesirable_traits: set[str], wine: Wine):\n",
    "        \n",
    "        # instance variables\n",
    "        self._undesirable_traits = undesirable_traits\n",
    "        self._wine = wine\n",
    "        \n",
    "        # Benny checks the wine upon receiving it. Will be True or False.\n",
    "        self._benny_likes_it = self.check_wine()\n",
    "\n",
    "    def check_wine(self):\n",
    "        \"\"\"Returns False if received wine overlaps with undesirable traits, returns True otherwise\"\"\"\n",
    "        wine_type = set(self._wine.lower().split())\n",
    "\n",
    "        if self._undesirable_traits.intersection(wine_type):\n",
    "            return False\n",
    "        \n",
    "        else:\n",
    "            return True\n",
    "\n",
    "    def taste_wine(self):\n",
    "        \"\"\"Returns output based on status of self._benny_likes_it variable\"\"\"\n",
    "        if self._benny_likes_it:\n",
    "            print(f\"Benny says: Oh yes, {self._wine}, thats proper lovely, that.\")\n",
    "            \n",
    "        else:\n",
    "            print(\n",
    "                f\"Benny frowns: Ugh, {self._wine}, not quite my taste.\"\n",
    "            )\n"
   ]
  },
  {
   "cell_type": "code",
   "execution_count": 14,
   "metadata": {
    "tags": []
   },
   "outputs": [],
   "source": [
    "# Make some wine objects\n",
    "chianti = Wine('Chianti Classico')\n",
    "shitty_chenin = Wine('Shitty Chenin Blanc')\n",
    "\n",
    "undesirable_traits = {'cheap', 'shitty'}\n",
    "\n",
    "# Make some instances of benny with wine\n",
    "benny_with_chianti = Benny(undesirable_traits, chianti.winetype)\n",
    "benny_with_shitty_chenin = Benny(undesirable_traits, shitty_chenin.winetype)"
   ]
  },
  {
   "cell_type": "code",
   "execution_count": 15,
   "metadata": {
    "tags": []
   },
   "outputs": [
    {
     "name": "stdout",
     "output_type": "stream",
     "text": [
      "Benny says: Oh yes, chianti classico, thats proper lovely, that.\n"
     ]
    }
   ],
   "source": [
    "benny_with_chianti.taste_wine()"
   ]
  },
  {
   "cell_type": "code",
   "execution_count": 16,
   "metadata": {
    "tags": []
   },
   "outputs": [
    {
     "name": "stdout",
     "output_type": "stream",
     "text": [
      "Benny frowns: Ugh, shitty chenin blanc, not quite my taste.\n"
     ]
    }
   ],
   "source": [
    "benny_with_shitty_chenin.taste_wine()"
   ]
  },
  {
   "cell_type": "markdown",
   "metadata": {},
   "source": [
    "### Ok great, when is this useful?\n",
    "\n",
    "Logic within objects is used to manage and manipulate the state of an object based on the values of its attributes. Using logic in objects can make your code more expressive and powerful, since it allows you to define complex behavior for your objects based on their attributes and other factors. It also allows you to encapsulate this behavior within your objects, which can make your code more modular and easier to maintain. Which is generally what you're aiming for.\n",
    "\n",
    "Here are some use-cases for applying logic in relation to classes:\n",
    "Initialization and State Management: Constructors initialize object states with validation and setup.\n",
    "Encapsulation: Methods encapsulate complex behaviors, ensuring states remain valid and operations are restricted to maintain integrity.\n",
    "Decision Making: Conditional logic within methods allows objects to perform different actions based on their state or inputs.\n",
    "Polymorphism and Method Overriding: Logic in methods can be customized in subclasses to alter or enhance functionality.\n",
    "Utility Methods: Objects often include methods that provide specific functionality, helping to organize code and increase reusability."
   ]
  },
  {
   "cell_type": "markdown",
   "metadata": {},
   "source": [
    "### Logical Operators\n",
    "\n",
    "Logical operators allow us to combine boolean expressions using `and`, `or`, and `not`. These can be used whenever we are evaluation Boolean values."
   ]
  },
  {
   "cell_type": "code",
   "execution_count": 17,
   "metadata": {
    "tags": []
   },
   "outputs": [],
   "source": [
    "def more_complex_logic(x: int | float):\n",
    "    if not isinstance(x, (int, float)):\n",
    "        raise TypeError('Blæ')\n",
    "    \n",
    "    # X is larger or equal to 10 and an even number\n",
    "    if x >= 10 and x % 2 == 0:\n",
    "        return x ** 2\n",
    "    \n",
    "    # X is smaller than 10 or an odd number\n",
    "    elif x < 10 or x % 2 != 0:\n",
    "        return x ** -2\n",
    "    \n",
    "    elif x == 42:\n",
    "        print('Thats the meaning of life, man.')\n",
    "    \n",
    "    # X is smaller than 10 but an even number\n",
    "    else:\n",
    "        return x * 2"
   ]
  },
  {
   "cell_type": "markdown",
   "metadata": {},
   "source": [
    "### Truthy and Falsy Values\n",
    "\n",
    "In Python, certain values are considered \"truthy\" or \"falsy\" when used in a boolean context. For example, 0, None, and empty strings are considered falsy, while non-zero numbers, non-empty strings, and objects are considered truthy. Here are some built-in \n",
    "\n",
    "Here are some examples of falsy values in Python:\n",
    "\n",
    "- `None`\n",
    "- `False`\n",
    "- `0` (zero)\n",
    "- `0.0` (zero as a float)\n",
    "- `\"\"` (empty string)\n",
    "- `[]` (empty list)\n",
    "- `()` (empty tuple)\n",
    "- `{}` (empty dictionary)\n",
    "\n",
    "Here are some truthy objects in Python:\n",
    "- `True`\n",
    "- `1` (one)\n",
    "- `3.14` (pi as a float)\n",
    "- `\"hello\"` (non-empty string)\n",
    "- `[1, 2, 3]` (non-empty list)\n",
    "- `(1, 2, 3)` (non-empty tuple)\n",
    "- `{\"a\": 1, \"b\": 2}` (non-empty dictionary)\n"
   ]
  },
  {
   "cell_type": "code",
   "execution_count": 18,
   "metadata": {
    "tags": []
   },
   "outputs": [
    {
     "name": "stdout",
     "output_type": "stream",
     "text": [
      "x is falsy\n",
      "Hello, Anonymous!\n",
      "Hello, Steve\n"
     ]
    }
   ],
   "source": [
    "# proof\n",
    "x = 0\n",
    "\n",
    "if x:\n",
    "    print(\"x is truthy\")\n",
    "else:\n",
    "    print(\"x is falsy\")\n",
    "    \n",
    "name = \"\"\n",
    "\n",
    "# Normally we write these truthy and falsy values like so because programmers are lazy\n",
    "if not name:\n",
    "    print(\"Hello, Anonymous!\")\n",
    "\n",
    "name = 'Steve'\n",
    "\n",
    "if name:\n",
    "    print(f\"Hello, {name}\")"
   ]
  },
  {
   "cell_type": "code",
   "execution_count": 19,
   "metadata": {
    "tags": []
   },
   "outputs": [
    {
     "name": "stdout",
     "output_type": "stream",
     "text": [
      "l is empty falsy\n",
      "l contains [':D'] and is truthy\n"
     ]
    }
   ],
   "source": [
    "# Example with list\n",
    "l = []\n",
    "\n",
    "if not l:\n",
    "    print('l is empty falsy')\n",
    "    \n",
    "l.append(':D')\n",
    "\n",
    "if l:\n",
    "    print(f'l contains {l} and is truthy')"
   ]
  },
  {
   "cell_type": "markdown",
   "metadata": {},
   "source": [
    "### Chaining Comparisons\n",
    "\n",
    "Multiple comparison operators in a single expression to create a `bool` value."
   ]
  },
  {
   "cell_type": "code",
   "execution_count": 20,
   "metadata": {
    "tags": []
   },
   "outputs": [
    {
     "data": {
      "text/plain": [
       "True"
      ]
     },
     "execution_count": 20,
     "metadata": {},
     "output_type": "execute_result"
    }
   ],
   "source": [
    "def is_in_range(n, start, end):\n",
    "    # The two comparisons we do here will evaluate to a singular True or False value\n",
    "    return start <= n <= end\n",
    "\n",
    "is_in_range(10, 5, 15)"
   ]
  },
  {
   "cell_type": "markdown",
   "metadata": {},
   "source": [
    "### try-except blocks\n",
    " \n",
    "`try` and `except` blocks are used for error handling. This is also known as exception handling. They allow you to catch and handle errors that may occur during the execution of your code, so that your program can continue running gracefully instead of crashing. They kind of work like logic, which is why they are apart of this lecture.\n",
    "\n",
    "Here's the basic syntax of a try and except block:"
   ]
  },
  {
   "cell_type": "code",
   "execution_count": 21,
   "metadata": {},
   "outputs": [
    {
     "name": "stdout",
     "output_type": "stream",
     "text": [
      "Cannot divide by zero\n"
     ]
    }
   ],
   "source": [
    "try:\n",
    "    x = 1 / 0\n",
    "except ZeroDivisionError:\n",
    "    print(\"Cannot divide by zero\")\n"
   ]
  },
  {
   "cell_type": "markdown",
   "metadata": {},
   "source": [
    "We normally specify all types of exceptions we want to catch with the except terms. The keyword finally trigger stuff regardless of what comes before if we use try and except."
   ]
  },
  {
   "cell_type": "code",
   "execution_count": 22,
   "metadata": {},
   "outputs": [
    {
     "name": "stdin",
     "output_type": "stream",
     "text": [
      "Enter a number:  3\n"
     ]
    },
    {
     "name": "stdout",
     "output_type": "stream",
     "text": [
      "0.3333333333333333\n",
      "Thank you for using the program\n"
     ]
    }
   ],
   "source": [
    "try:\n",
    "    x = int(input(\"Enter a number: \"))\n",
    "    y = 1 / x\n",
    "    print(y)\n",
    "except ValueError:\n",
    "    print(\"Invalid input\")\n",
    "except ZeroDivisionError:\n",
    "    print(\"Cannot divide by zero\")\n",
    "finally:\n",
    "    print(\"Thank you for using the program\")\n"
   ]
  },
  {
   "cell_type": "markdown",
   "metadata": {},
   "source": [
    "Now that you know about try and except, here is a note on how to *not* use it. The thing you want to avoid is using a bare try and except block. While the code will run the except block if the try block fails, it will do so for any reason. I.e. any bug will trigger this behaviour and it will be unclear why the program behaves like it does."
   ]
  },
  {
   "cell_type": "code",
   "execution_count": 23,
   "metadata": {
    "tags": []
   },
   "outputs": [
    {
     "name": "stdin",
     "output_type": "stream",
     "text": [
      "Enter a number:  4\n"
     ]
    },
    {
     "name": "stdout",
     "output_type": "stream",
     "text": [
      "0.25\n"
     ]
    }
   ],
   "source": [
    "try:\n",
    "    x = int(input(\"Enter a number: \"))\n",
    "    y = 1 / x\n",
    "    print(y)\n",
    "# will trigger if the above fails for whatever reason\n",
    "# If you write a bare except block like this into your programs\n",
    "# they will be increadibly unstable\n",
    "# DO NOT DO THIS\n",
    "except:\n",
    "    print('In a more complex program it would be very hard to figure out why this bare except block triggered.')"
   ]
  }
 ],
 "metadata": {
  "kernelspec": {
   "display_name": "Python 3 (ipykernel)",
   "language": "python",
   "name": "python3"
  },
  "language_info": {
   "codemirror_mode": {
    "name": "ipython",
    "version": 3
   },
   "file_extension": ".py",
   "mimetype": "text/x-python",
   "name": "python",
   "nbconvert_exporter": "python",
   "pygments_lexer": "ipython3",
   "version": "3.10.9"
  }
 },
 "nbformat": 4,
 "nbformat_minor": 4
}
